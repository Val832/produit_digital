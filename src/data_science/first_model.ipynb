{
 "cells": [
  {
   "cell_type": "markdown",
   "id": "495d919b",
   "metadata": {},
   "source": [
    "## Summary\n",
    "\n",
    "We will use [Listings](http://insideairbnb.com/get-the-data) for Paris, France"
   ]
  },
  {
   "cell_type": "code",
   "execution_count": 206,
   "id": "af896a0b",
   "metadata": {},
   "outputs": [],
   "source": [
    "#Chargement des packages et modules\n",
    "import numpy as np\n",
    "import pandas as pd\n",
    "import matplotlib.pyplot as plt\n",
    "import os\n",
    "import seaborn as sns\n",
    "\n",
    "from sklearn import set_config\n",
    "from sklearn.compose import ColumnTransformer, make_column_selector\n",
    "from sklearn.datasets import fetch_california_housing, fetch_openml, load_boston, load_diabetes\n",
    "from sklearn.impute import SimpleImputer\n",
    "from sklearn.linear_model import LinearRegression, Ridge, RidgeCV, Lasso, ElasticNet\n",
    "from sklearn.metrics import (r2_score,\n",
    "                             mean_squared_error,\n",
    "                             mean_absolute_percentage_error,\n",
    "                             max_error,\n",
    "                            )\n",
    "from sklearn.model_selection import train_test_split, GridSearchCV, cross_validate\n",
    "from sklearn.pipeline import make_pipeline, Pipeline\n",
    "from sklearn.preprocessing import StandardScaler, MinMaxScaler, RobustScaler, OneHotEncoder\n",
    "\n",
    "import pickle"
   ]
  },
  {
   "cell_type": "code",
   "execution_count": 207,
   "id": "2bdf296d",
   "metadata": {},
   "outputs": [
    {
     "data": {
      "text/plain": [
       "'C:\\\\Users\\\\Acer\\\\Desktop\\\\SEP\\\\produit_digital'"
      ]
     },
     "execution_count": 207,
     "metadata": {},
     "output_type": "execute_result"
    }
   ],
   "source": [
    "os.getcwd()"
   ]
  },
  {
   "cell_type": "code",
   "execution_count": 208,
   "id": "eb5fba1c",
   "metadata": {},
   "outputs": [],
   "source": [
    "#Chargez le fichier de données dans un objet appelé \"data\"\n",
    "\n",
    "data =pd.read_csv('listings.csv', delimiter=\",\")"
   ]
  },
  {
   "cell_type": "code",
   "execution_count": 209,
   "id": "e6ee4f3c",
   "metadata": {},
   "outputs": [
    {
     "data": {
      "text/html": [
       "<div>\n",
       "<style scoped>\n",
       "    .dataframe tbody tr th:only-of-type {\n",
       "        vertical-align: middle;\n",
       "    }\n",
       "\n",
       "    .dataframe tbody tr th {\n",
       "        vertical-align: top;\n",
       "    }\n",
       "\n",
       "    .dataframe thead th {\n",
       "        text-align: right;\n",
       "    }\n",
       "</style>\n",
       "<table border=\"1\" class=\"dataframe\">\n",
       "  <thead>\n",
       "    <tr style=\"text-align: right;\">\n",
       "      <th></th>\n",
       "      <th>id</th>\n",
       "      <th>listing_url</th>\n",
       "      <th>scrape_id</th>\n",
       "      <th>last_scraped</th>\n",
       "      <th>source</th>\n",
       "      <th>name</th>\n",
       "      <th>description</th>\n",
       "      <th>neighborhood_overview</th>\n",
       "      <th>picture_url</th>\n",
       "      <th>host_id</th>\n",
       "      <th>...</th>\n",
       "      <th>review_scores_communication</th>\n",
       "      <th>review_scores_location</th>\n",
       "      <th>review_scores_value</th>\n",
       "      <th>license</th>\n",
       "      <th>instant_bookable</th>\n",
       "      <th>calculated_host_listings_count</th>\n",
       "      <th>calculated_host_listings_count_entire_homes</th>\n",
       "      <th>calculated_host_listings_count_private_rooms</th>\n",
       "      <th>calculated_host_listings_count_shared_rooms</th>\n",
       "      <th>reviews_per_month</th>\n",
       "    </tr>\n",
       "  </thead>\n",
       "  <tbody>\n",
       "    <tr>\n",
       "      <th>0</th>\n",
       "      <td>52931</td>\n",
       "      <td>https://www.airbnb.com/rooms/52931</td>\n",
       "      <td>20230904181324</td>\n",
       "      <td>2023-09-06</td>\n",
       "      <td>previous scrape</td>\n",
       "      <td>Rental unit in Paris · ★4.65 · 2 bedrooms · 2 ...</td>\n",
       "      <td>I will be delighted to welcome you to my charm...</td>\n",
       "      <td>In some streets, Les Épinettes has also become...</td>\n",
       "      <td>https://a0.muscache.com/pictures/miso/Hosting-...</td>\n",
       "      <td>50502817</td>\n",
       "      <td>...</td>\n",
       "      <td>4.71</td>\n",
       "      <td>4.24</td>\n",
       "      <td>4.24</td>\n",
       "      <td>7511706944917</td>\n",
       "      <td>t</td>\n",
       "      <td>382</td>\n",
       "      <td>378</td>\n",
       "      <td>4</td>\n",
       "      <td>0</td>\n",
       "      <td>1.65</td>\n",
       "    </tr>\n",
       "    <tr>\n",
       "      <th>1</th>\n",
       "      <td>53353</td>\n",
       "      <td>https://www.airbnb.com/rooms/53353</td>\n",
       "      <td>20230904181324</td>\n",
       "      <td>2023-09-05</td>\n",
       "      <td>city scrape</td>\n",
       "      <td>Rental unit in Paris · ★4.82 · 2 bedrooms · 3 ...</td>\n",
       "      <td>A 100 m2 Loft/apartment (with 20 m2 terrace) o...</td>\n",
       "      <td>NEIGHBORHOOD: Montmartre-Clichy-Pigalles-Les F...</td>\n",
       "      <td>https://a0.muscache.com/pictures/2a1726b5-5a09...</td>\n",
       "      <td>37051412</td>\n",
       "      <td>...</td>\n",
       "      <td>4.91</td>\n",
       "      <td>4.48</td>\n",
       "      <td>4.73</td>\n",
       "      <td>7511800114704</td>\n",
       "      <td>f</td>\n",
       "      <td>1</td>\n",
       "      <td>1</td>\n",
       "      <td>0</td>\n",
       "      <td>0</td>\n",
       "      <td>0.24</td>\n",
       "    </tr>\n",
       "    <tr>\n",
       "      <th>2</th>\n",
       "      <td>3109</td>\n",
       "      <td>https://www.airbnb.com/rooms/3109</td>\n",
       "      <td>20230904181324</td>\n",
       "      <td>2023-09-05</td>\n",
       "      <td>city scrape</td>\n",
       "      <td>Rental unit in Paris · ★5.0 · 1 bedroom · 1 be...</td>\n",
       "      <td>Lovely Appartment with one bedroom with a Quee...</td>\n",
       "      <td>Good restaurants&lt;br /&gt;very close the Montparna...</td>\n",
       "      <td>https://a0.muscache.com/pictures/baeae9e2-cd53...</td>\n",
       "      <td>3631</td>\n",
       "      <td>...</td>\n",
       "      <td>5.00</td>\n",
       "      <td>5.00</td>\n",
       "      <td>5.00</td>\n",
       "      <td>7511409139079</td>\n",
       "      <td>f</td>\n",
       "      <td>1</td>\n",
       "      <td>1</td>\n",
       "      <td>0</td>\n",
       "      <td>0</td>\n",
       "      <td>0.11</td>\n",
       "    </tr>\n",
       "    <tr>\n",
       "      <th>3</th>\n",
       "      <td>54377</td>\n",
       "      <td>https://www.airbnb.com/rooms/54377</td>\n",
       "      <td>20230904181324</td>\n",
       "      <td>2023-09-05</td>\n",
       "      <td>city scrape</td>\n",
       "      <td>Rental unit in Paris · ★4.94 · 1 bedroom · 1 b...</td>\n",
       "      <td>We love Paris. Giving tourists the opportunity...</td>\n",
       "      <td>The district is cosmopolitan and particularly ...</td>\n",
       "      <td>https://a0.muscache.com/pictures/miso/Hosting-...</td>\n",
       "      <td>247562</td>\n",
       "      <td>...</td>\n",
       "      <td>5.00</td>\n",
       "      <td>4.57</td>\n",
       "      <td>4.88</td>\n",
       "      <td>7511800523290</td>\n",
       "      <td>f</td>\n",
       "      <td>1</td>\n",
       "      <td>0</td>\n",
       "      <td>1</td>\n",
       "      <td>0</td>\n",
       "      <td>1.19</td>\n",
       "    </tr>\n",
       "    <tr>\n",
       "      <th>4</th>\n",
       "      <td>5396</td>\n",
       "      <td>https://www.airbnb.com/rooms/5396</td>\n",
       "      <td>20230904181324</td>\n",
       "      <td>2023-09-05</td>\n",
       "      <td>city scrape</td>\n",
       "      <td>Rental unit in Paris · ★4.56 · Studio · 1 bed ...</td>\n",
       "      <td>NEW SOFA-BED SINCE JUNE 2023, Please disregard...</td>\n",
       "      <td>You are within walking distance to the Louvre,...</td>\n",
       "      <td>https://a0.muscache.com/pictures/52413/f9bf76f...</td>\n",
       "      <td>7903</td>\n",
       "      <td>...</td>\n",
       "      <td>4.83</td>\n",
       "      <td>4.95</td>\n",
       "      <td>4.55</td>\n",
       "      <td>7510402838018</td>\n",
       "      <td>f</td>\n",
       "      <td>1</td>\n",
       "      <td>1</td>\n",
       "      <td>0</td>\n",
       "      <td>0</td>\n",
       "      <td>2.05</td>\n",
       "    </tr>\n",
       "  </tbody>\n",
       "</table>\n",
       "<p>5 rows × 75 columns</p>\n",
       "</div>"
      ],
      "text/plain": [
       "      id                         listing_url       scrape_id last_scraped  \\\n",
       "0  52931  https://www.airbnb.com/rooms/52931  20230904181324   2023-09-06   \n",
       "1  53353  https://www.airbnb.com/rooms/53353  20230904181324   2023-09-05   \n",
       "2   3109   https://www.airbnb.com/rooms/3109  20230904181324   2023-09-05   \n",
       "3  54377  https://www.airbnb.com/rooms/54377  20230904181324   2023-09-05   \n",
       "4   5396   https://www.airbnb.com/rooms/5396  20230904181324   2023-09-05   \n",
       "\n",
       "            source                                               name  \\\n",
       "0  previous scrape  Rental unit in Paris · ★4.65 · 2 bedrooms · 2 ...   \n",
       "1      city scrape  Rental unit in Paris · ★4.82 · 2 bedrooms · 3 ...   \n",
       "2      city scrape  Rental unit in Paris · ★5.0 · 1 bedroom · 1 be...   \n",
       "3      city scrape  Rental unit in Paris · ★4.94 · 1 bedroom · 1 b...   \n",
       "4      city scrape  Rental unit in Paris · ★4.56 · Studio · 1 bed ...   \n",
       "\n",
       "                                         description  \\\n",
       "0  I will be delighted to welcome you to my charm...   \n",
       "1  A 100 m2 Loft/apartment (with 20 m2 terrace) o...   \n",
       "2  Lovely Appartment with one bedroom with a Quee...   \n",
       "3  We love Paris. Giving tourists the opportunity...   \n",
       "4  NEW SOFA-BED SINCE JUNE 2023, Please disregard...   \n",
       "\n",
       "                               neighborhood_overview  \\\n",
       "0  In some streets, Les Épinettes has also become...   \n",
       "1  NEIGHBORHOOD: Montmartre-Clichy-Pigalles-Les F...   \n",
       "2  Good restaurants<br />very close the Montparna...   \n",
       "3  The district is cosmopolitan and particularly ...   \n",
       "4  You are within walking distance to the Louvre,...   \n",
       "\n",
       "                                         picture_url   host_id  ...  \\\n",
       "0  https://a0.muscache.com/pictures/miso/Hosting-...  50502817  ...   \n",
       "1  https://a0.muscache.com/pictures/2a1726b5-5a09...  37051412  ...   \n",
       "2  https://a0.muscache.com/pictures/baeae9e2-cd53...      3631  ...   \n",
       "3  https://a0.muscache.com/pictures/miso/Hosting-...    247562  ...   \n",
       "4  https://a0.muscache.com/pictures/52413/f9bf76f...      7903  ...   \n",
       "\n",
       "  review_scores_communication review_scores_location review_scores_value  \\\n",
       "0                        4.71                   4.24                4.24   \n",
       "1                        4.91                   4.48                4.73   \n",
       "2                        5.00                   5.00                5.00   \n",
       "3                        5.00                   4.57                4.88   \n",
       "4                        4.83                   4.95                4.55   \n",
       "\n",
       "         license instant_bookable calculated_host_listings_count  \\\n",
       "0  7511706944917                t                            382   \n",
       "1  7511800114704                f                              1   \n",
       "2  7511409139079                f                              1   \n",
       "3  7511800523290                f                              1   \n",
       "4  7510402838018                f                              1   \n",
       "\n",
       "  calculated_host_listings_count_entire_homes  \\\n",
       "0                                         378   \n",
       "1                                           1   \n",
       "2                                           1   \n",
       "3                                           0   \n",
       "4                                           1   \n",
       "\n",
       "  calculated_host_listings_count_private_rooms  \\\n",
       "0                                            4   \n",
       "1                                            0   \n",
       "2                                            0   \n",
       "3                                            1   \n",
       "4                                            0   \n",
       "\n",
       "  calculated_host_listings_count_shared_rooms reviews_per_month  \n",
       "0                                           0              1.65  \n",
       "1                                           0              0.24  \n",
       "2                                           0              0.11  \n",
       "3                                           0              1.19  \n",
       "4                                           0              2.05  \n",
       "\n",
       "[5 rows x 75 columns]"
      ]
     },
     "execution_count": 209,
     "metadata": {},
     "output_type": "execute_result"
    }
   ],
   "source": [
    "df_airbnb = data.copy()\n",
    "df_airbnb.head()"
   ]
  },
  {
   "cell_type": "markdown",
   "id": "40adbb7f",
   "metadata": {},
   "source": [
    "<h3> PREPROCESSING</h3>"
   ]
  },
  {
   "cell_type": "code",
   "execution_count": 210,
   "id": "9b320f0b",
   "metadata": {},
   "outputs": [
    {
     "data": {
      "text/plain": [
       "0             1.5 baths\n",
       "1             2.5 baths\n",
       "2                1 bath\n",
       "3        1 private bath\n",
       "4                1 bath\n",
       "              ...      \n",
       "67937            1 bath\n",
       "67938           3 baths\n",
       "67939           3 baths\n",
       "67940            1 bath\n",
       "67941            1 bath\n",
       "Name: bathrooms_text, Length: 67942, dtype: object"
      ]
     },
     "execution_count": 210,
     "metadata": {},
     "output_type": "execute_result"
    }
   ],
   "source": [
    "df_airbnb['bathrooms_text']"
   ]
  },
  {
   "cell_type": "code",
   "execution_count": 211,
   "id": "f5053246",
   "metadata": {},
   "outputs": [
    {
     "name": "stdout",
     "output_type": "stream",
     "text": [
      "0        1.5\n",
      "1        2.5\n",
      "2        1.0\n",
      "3        1.0\n",
      "4        1.0\n",
      "        ... \n",
      "67937    1.0\n",
      "67938    3.0\n",
      "67939    3.0\n",
      "67940    1.0\n",
      "67941    1.0\n",
      "Name: bathrooms_clean, Length: 67942, dtype: float64\n"
     ]
    }
   ],
   "source": [
    "df_airbnb['bathrooms_clean'] =df_airbnb['bathrooms_text'].str.extract('(\\d+\\.?\\d*)').astype(float)\n",
    "\n",
    "# Affichez le dataframe avec la nouvelle colonne 'Bathrooms' transformée en numérique\n",
    "print(df_airbnb['bathrooms_clean'])"
   ]
  },
  {
   "cell_type": "code",
   "execution_count": 212,
   "id": "af024f29",
   "metadata": {
    "scrolled": true
   },
   "outputs": [
    {
     "name": "stdout",
     "output_type": "stream",
     "text": [
      "<class 'pandas.core.frame.DataFrame'>\n",
      "RangeIndex: 67942 entries, 0 to 67941\n",
      "Data columns (total 76 columns):\n",
      " #   Column                                        Non-Null Count  Dtype  \n",
      "---  ------                                        --------------  -----  \n",
      " 0   id                                            67942 non-null  int64  \n",
      " 1   listing_url                                   67942 non-null  object \n",
      " 2   scrape_id                                     67942 non-null  int64  \n",
      " 3   last_scraped                                  67942 non-null  object \n",
      " 4   source                                        67942 non-null  object \n",
      " 5   name                                          67942 non-null  object \n",
      " 6   description                                   67416 non-null  object \n",
      " 7   neighborhood_overview                         38031 non-null  object \n",
      " 8   picture_url                                   67942 non-null  object \n",
      " 9   host_id                                       67942 non-null  int64  \n",
      " 10  host_url                                      67942 non-null  object \n",
      " 11  host_name                                     67935 non-null  object \n",
      " 12  host_since                                    67935 non-null  object \n",
      " 13  host_location                                 55139 non-null  object \n",
      " 14  host_about                                    30792 non-null  object \n",
      " 15  host_response_time                            42044 non-null  object \n",
      " 16  host_response_rate                            42044 non-null  object \n",
      " 17  host_acceptance_rate                          45676 non-null  object \n",
      " 18  host_is_superhost                             66968 non-null  object \n",
      " 19  host_thumbnail_url                            67935 non-null  object \n",
      " 20  host_picture_url                              67935 non-null  object \n",
      " 21  host_neighbourhood                            33638 non-null  object \n",
      " 22  host_listings_count                           67935 non-null  float64\n",
      " 23  host_total_listings_count                     67935 non-null  float64\n",
      " 24  host_verifications                            67942 non-null  object \n",
      " 25  host_has_profile_pic                          67935 non-null  object \n",
      " 26  host_identity_verified                        67935 non-null  object \n",
      " 27  neighbourhood                                 38031 non-null  object \n",
      " 28  neighbourhood_cleansed                        67942 non-null  object \n",
      " 29  neighbourhood_group_cleansed                  0 non-null      float64\n",
      " 30  latitude                                      67942 non-null  float64\n",
      " 31  longitude                                     67942 non-null  float64\n",
      " 32  property_type                                 67942 non-null  object \n",
      " 33  room_type                                     67942 non-null  object \n",
      " 34  accommodates                                  67942 non-null  int64  \n",
      " 35  bathrooms                                     0 non-null      float64\n",
      " 36  bathrooms_text                                67859 non-null  object \n",
      " 37  bedrooms                                      52322 non-null  float64\n",
      " 38  beds                                          67242 non-null  float64\n",
      " 39  amenities                                     67942 non-null  object \n",
      " 40  price                                         67942 non-null  object \n",
      " 41  minimum_nights                                67942 non-null  int64  \n",
      " 42  maximum_nights                                67942 non-null  int64  \n",
      " 43  minimum_minimum_nights                        67942 non-null  int64  \n",
      " 44  maximum_minimum_nights                        67942 non-null  int64  \n",
      " 45  minimum_maximum_nights                        67942 non-null  int64  \n",
      " 46  maximum_maximum_nights                        67942 non-null  int64  \n",
      " 47  minimum_nights_avg_ntm                        67942 non-null  float64\n",
      " 48  maximum_nights_avg_ntm                        67942 non-null  float64\n",
      " 49  calendar_updated                              0 non-null      float64\n",
      " 50  has_availability                              67942 non-null  object \n",
      " 51  availability_30                               67942 non-null  int64  \n",
      " 52  availability_60                               67942 non-null  int64  \n",
      " 53  availability_90                               67942 non-null  int64  \n",
      " 54  availability_365                              67942 non-null  int64  \n",
      " 55  calendar_last_scraped                         67942 non-null  object \n",
      " 56  number_of_reviews                             67942 non-null  int64  \n",
      " 57  number_of_reviews_ltm                         67942 non-null  int64  \n",
      " 58  number_of_reviews_l30d                        67942 non-null  int64  \n",
      " 59  first_review                                  53185 non-null  object \n",
      " 60  last_review                                   53185 non-null  object \n",
      " 61  review_scores_rating                          53185 non-null  float64\n",
      " 62  review_scores_accuracy                        52685 non-null  float64\n",
      " 63  review_scores_cleanliness                     52687 non-null  float64\n",
      " 64  review_scores_checkin                         52675 non-null  float64\n",
      " 65  review_scores_communication                   52685 non-null  float64\n",
      " 66  review_scores_location                        52675 non-null  float64\n",
      " 67  review_scores_value                           52672 non-null  float64\n",
      " 68  license                                       49372 non-null  object \n",
      " 69  instant_bookable                              67942 non-null  object \n",
      " 70  calculated_host_listings_count                67942 non-null  int64  \n",
      " 71  calculated_host_listings_count_entire_homes   67942 non-null  int64  \n",
      " 72  calculated_host_listings_count_private_rooms  67942 non-null  int64  \n",
      " 73  calculated_host_listings_count_shared_rooms   67942 non-null  int64  \n",
      " 74  reviews_per_month                             53185 non-null  float64\n",
      " 75  bathrooms_clean                               67514 non-null  float64\n",
      "dtypes: float64(20), int64(21), object(35)\n",
      "memory usage: 39.4+ MB\n"
     ]
    }
   ],
   "source": [
    "df_airbnb.info()"
   ]
  },
  {
   "cell_type": "code",
   "execution_count": 213,
   "id": "9436ac4f",
   "metadata": {},
   "outputs": [
    {
     "data": {
      "text/plain": [
       "0        Batignolles-Monceau\n",
       "1          Buttes-Montmartre\n",
       "2               Observatoire\n",
       "3          Buttes-Montmartre\n",
       "4             Hôtel-de-Ville\n",
       "                ...         \n",
       "67937           Ménilmontant\n",
       "67938             Popincourt\n",
       "67939                 Louvre\n",
       "67940                  Opéra\n",
       "67941         Hôtel-de-Ville\n",
       "Name: neighbourhood_cleansed, Length: 67942, dtype: object"
      ]
     },
     "execution_count": 213,
     "metadata": {},
     "output_type": "execute_result"
    }
   ],
   "source": [
    "df_airbnb[\"amenities\"]\n",
    "df_airbnb[\"neighbourhood_cleansed\"]"
   ]
  },
  {
   "cell_type": "code",
   "execution_count": 214,
   "id": "ce477704",
   "metadata": {},
   "outputs": [
    {
     "data": {
      "text/plain": [
       "0        [Microwave, Hot water kettle, Cleaning product...\n",
       "1        [Children’s books and toys for ages 2-5 years ...\n",
       "2        [Hangers, Washer, Paid parking off premises, S...\n",
       "3        [Microwave, Courtyard view, Paid parking off p...\n",
       "4        [Hot water kettle, Cleaning products, Fire ext...\n",
       "                               ...                        \n",
       "67937    [Hangers, Microwave, Essentials, TV, Iron, Wif...\n",
       "67938    [Microwave, Hot water kettle, Lockbox, Dedicat...\n",
       "67939    [Hangers, Carbon monoxide alarm, Essentials, T...\n",
       "67940    [Microwave, Hot water kettle, Coffee maker, HD...\n",
       "67941    [Microwave, Hot water kettle, Patio or balcony...\n",
       "Name: amenities, Length: 67942, dtype: object"
      ]
     },
     "execution_count": 214,
     "metadata": {},
     "output_type": "execute_result"
    }
   ],
   "source": [
    "import pandas as pd\n",
    "import ast\n",
    "\n",
    "# Supposons que votre dataframe s'appelle df\n",
    "# Convertissez la colonne 'amenities' en listes Python\n",
    "df_airbnb['amenities'] = df_airbnb['amenities'].apply(lambda x: ast.literal_eval(x) if pd.notnull(x) else [])\n",
    "\n",
    "df_airbnb['amenities'] \n",
    "\n",
    "\n"
   ]
  },
  {
   "cell_type": "code",
   "execution_count": 215,
   "id": "583483b4",
   "metadata": {},
   "outputs": [
    {
     "name": "stdout",
     "output_type": "stream",
     "text": [
      "Kitchen                  63551\n",
      "Wifi                     60669\n",
      "Essentials               58332\n",
      "Smoke alarm              51016\n",
      "Hair dryer               48308\n",
      "Iron                     45549\n",
      "Heating                  45399\n",
      "Hot water                45124\n",
      "Hangers                  44234\n",
      "Dishes and silverware    42212\n",
      "Washer                   42209\n",
      "Cooking basics           39963\n",
      "Refrigerator             38790\n",
      "Bed linens               38530\n",
      "Shampoo                  35599\n",
      "Microwave                31102\n",
      "TV                       30772\n",
      "Dedicated workspace      25109\n",
      "Cleaning products        24730\n",
      "Oven                     23959\n",
      "dtype: int64\n"
     ]
    }
   ],
   "source": [
    "# Créez une série contenant toutes les amenities\n",
    "all_amenities = pd.Series([amenity for amenities_list in df_airbnb['amenities'] for amenity in amenities_list])\n",
    "\n",
    "# Comptez la fréquence de chaque amenity\n",
    "amenities_counts = all_amenities.value_counts()\n",
    "\n",
    "# Affichez les amenities les plus fréquentes\n",
    "print(amenities_counts.head(20))  # Vous pouvez ajuster le nombre d'éléments à afficher\n",
    "\n",
    "\n"
   ]
  },
  {
   "cell_type": "code",
   "execution_count": 216,
   "id": "019d9cc2",
   "metadata": {},
   "outputs": [
    {
     "name": "stderr",
     "output_type": "stream",
     "text": [
      "C:\\Users\\Acer\\AppData\\Local\\Temp\\ipykernel_3104\\3673695309.py:5: FutureWarning: The default dtype for empty Series will be 'object' instead of 'float64' in a future version. Specify a dtype explicitly to silence this warning.\n",
      "  amenities_dummies = pd.get_dummies(df_airbnb['amenities'].apply(lambda x: [amenity for amenity in x if amenity in frequent_amenities]).apply(pd.Series).stack()).sum(level=0)\n",
      "C:\\Users\\Acer\\AppData\\Local\\Temp\\ipykernel_3104\\3673695309.py:5: FutureWarning: Using the level keyword in DataFrame and Series aggregations is deprecated and will be removed in a future version. Use groupby instead. df.sum(level=1) should use df.groupby(level=1).sum().\n",
      "  amenities_dummies = pd.get_dummies(df_airbnb['amenities'].apply(lambda x: [amenity for amenity in x if amenity in frequent_amenities]).apply(pd.Series).stack()).sum(level=0)\n"
     ]
    },
    {
     "name": "stdout",
     "output_type": "stream",
     "text": [
      "                       id                                      listing_url  \\\n",
      "0                   52931               https://www.airbnb.com/rooms/52931   \n",
      "1                   53353               https://www.airbnb.com/rooms/53353   \n",
      "2                    3109                https://www.airbnb.com/rooms/3109   \n",
      "3                   54377               https://www.airbnb.com/rooms/54377   \n",
      "4                    5396                https://www.airbnb.com/rooms/5396   \n",
      "...                   ...                                              ...   \n",
      "67937  972886538090125888  https://www.airbnb.com/rooms/972886538090125888   \n",
      "67938  972890854868668144  https://www.airbnb.com/rooms/972890854868668144   \n",
      "67939  972894575720459810  https://www.airbnb.com/rooms/972894575720459810   \n",
      "67940  972904630185591405  https://www.airbnb.com/rooms/972904630185591405   \n",
      "67941  972916211667468705  https://www.airbnb.com/rooms/972916211667468705   \n",
      "\n",
      "            scrape_id last_scraped           source  \\\n",
      "0      20230904181324   2023-09-06  previous scrape   \n",
      "1      20230904181324   2023-09-05      city scrape   \n",
      "2      20230904181324   2023-09-05      city scrape   \n",
      "3      20230904181324   2023-09-05      city scrape   \n",
      "4      20230904181324   2023-09-05      city scrape   \n",
      "...               ...          ...              ...   \n",
      "67937  20230904181324   2023-09-05      city scrape   \n",
      "67938  20230904181324   2023-09-05      city scrape   \n",
      "67939  20230904181324   2023-09-05      city scrape   \n",
      "67940  20230904181324   2023-09-05      city scrape   \n",
      "67941  20230904181324   2023-09-05      city scrape   \n",
      "\n",
      "                                                    name  \\\n",
      "0      Rental unit in Paris · ★4.65 · 2 bedrooms · 2 ...   \n",
      "1      Rental unit in Paris · ★4.82 · 2 bedrooms · 3 ...   \n",
      "2      Rental unit in Paris · ★5.0 · 1 bedroom · 1 be...   \n",
      "3      Rental unit in Paris · ★4.94 · 1 bedroom · 1 b...   \n",
      "4      Rental unit in Paris · ★4.56 · Studio · 1 bed ...   \n",
      "...                                                  ...   \n",
      "67937  Rental unit in Paris · ★New · 1 bedroom · 2 be...   \n",
      "67938  Rental unit in Paris · ★New · 3 bedrooms · 5 b...   \n",
      "67939  Rental unit in Paris · ★New · 3 bedrooms · 4 b...   \n",
      "67940  Rental unit in Paris · ★New · 2 bedrooms · 4 b...   \n",
      "67941  Rental unit in Paris · ★New · 1 bedroom · 3 be...   \n",
      "\n",
      "                                             description  \\\n",
      "0      I will be delighted to welcome you to my charm...   \n",
      "1      A 100 m2 Loft/apartment (with 20 m2 terrace) o...   \n",
      "2      Lovely Appartment with one bedroom with a Quee...   \n",
      "3      We love Paris. Giving tourists the opportunity...   \n",
      "4      NEW SOFA-BED SINCE JUNE 2023, Please disregard...   \n",
      "...                                                  ...   \n",
      "67937  ClickYourTravel is delighted to present Suite ...   \n",
      "67938  ClickYourTravel is delighted to present Suite ...   \n",
      "67939  ClickYourTravel is pleased to present Suite Sa...   \n",
      "67940  <b>The space</b><br />Ensuring the comfort of ...   \n",
      "67941  <b>The space</b><br />Ensuring the comfort of ...   \n",
      "\n",
      "                                   neighborhood_overview  \\\n",
      "0      In some streets, Les Épinettes has also become...   \n",
      "1      NEIGHBORHOOD: Montmartre-Clichy-Pigalles-Les F...   \n",
      "2      Good restaurants<br />very close the Montparna...   \n",
      "3      The district is cosmopolitan and particularly ...   \n",
      "4      You are within walking distance to the Louvre,...   \n",
      "...                                                  ...   \n",
      "67937  Located in the heart of Paris, in the 20th arr...   \n",
      "67938  Located in the heart of Paris, our apartment i...   \n",
      "67939  Located in the heart of Paris, our apartment i...   \n",
      "67940                                                NaN   \n",
      "67941                                                NaN   \n",
      "\n",
      "                                             picture_url    host_id  ... Iron  \\\n",
      "0      https://a0.muscache.com/pictures/miso/Hosting-...   50502817  ...  1.0   \n",
      "1      https://a0.muscache.com/pictures/2a1726b5-5a09...   37051412  ...  1.0   \n",
      "2      https://a0.muscache.com/pictures/baeae9e2-cd53...       3631  ...  1.0   \n",
      "3      https://a0.muscache.com/pictures/miso/Hosting-...     247562  ...  1.0   \n",
      "4      https://a0.muscache.com/pictures/52413/f9bf76f...       7903  ...  1.0   \n",
      "...                                                  ...        ...  ...  ...   \n",
      "67937  https://a0.muscache.com/pictures/prohost-api/H...  530434332  ...  1.0   \n",
      "67938  https://a0.muscache.com/pictures/prohost-api/H...  530434332  ...  1.0   \n",
      "67939  https://a0.muscache.com/pictures/prohost-api/H...  530434332  ...  1.0   \n",
      "67940  https://a0.muscache.com/pictures/prohost-api/H...  521180613  ...  1.0   \n",
      "67941  https://a0.muscache.com/pictures/prohost-api/H...  521180613  ...  1.0   \n",
      "\n",
      "      Kitchen Microwave Oven Refrigerator Shampoo Smoke alarm   TV Washer Wifi  \n",
      "0         1.0       1.0  1.0          1.0     0.0         1.0  0.0    0.0  1.0  \n",
      "1         1.0       1.0  1.0          1.0     1.0         1.0  0.0    0.0  0.0  \n",
      "2         1.0       0.0  0.0          0.0     0.0         1.0  0.0    1.0  1.0  \n",
      "3         1.0       1.0  1.0          1.0     1.0         1.0  0.0    0.0  0.0  \n",
      "4         1.0       0.0  1.0          1.0     1.0         1.0  0.0    1.0  1.0  \n",
      "...       ...       ...  ...          ...     ...         ...  ...    ...  ...  \n",
      "67937     1.0       1.0  0.0          0.0     0.0         0.0  1.0    0.0  1.0  \n",
      "67938     1.0       1.0  0.0          0.0     0.0         1.0  1.0    1.0  1.0  \n",
      "67939     1.0       1.0  0.0          0.0     0.0         1.0  1.0    0.0  1.0  \n",
      "67940     1.0       1.0  1.0          1.0     1.0         1.0  0.0    1.0  1.0  \n",
      "67941     1.0       1.0  1.0          1.0     1.0         1.0  0.0    1.0  1.0  \n",
      "\n",
      "[67942 rows x 96 columns]\n"
     ]
    }
   ],
   "source": [
    "# Sélectionnez les amenities les plus fréquentes (par exemple, les 20 premières)\n",
    "frequent_amenities = amenities_counts.head(20).index\n",
    "\n",
    "# Créez des variables indicatrices uniquement pour les amenities les plus fréquentes\n",
    "amenities_dummies = pd.get_dummies(df_airbnb['amenities'].apply(lambda x: [amenity for amenity in x if amenity in frequent_amenities]).apply(pd.Series).stack()).sum(level=0)\n",
    "\n",
    "# Ajoutez les variables indicatrices au dataframe d'origine\n",
    "df_airbnb = pd.concat([df_airbnb, amenities_dummies], axis=1)\n",
    "\n",
    "# Affichez le dataframe avec les nouvelles variables indicatrices\n",
    "print(df_airbnb)\n"
   ]
  },
  {
   "cell_type": "markdown",
   "id": "4d122b26",
   "metadata": {},
   "source": [
    "Space,Access, Transit,Interaction,House_Rules, Property_Type,Room_Type,Accommodates,Bathrooms,Bedrooms, Beds, Bed_Type, Amenities,Square_Feet,   Minimum Nights,Maximum_Nights, Availability_30,  Accommodates, Bedrooms, Beds, Bed Type, Ameneties, Square Feet,  "
   ]
  },
  {
   "cell_type": "code",
   "execution_count": 217,
   "id": "3ec84ad5",
   "metadata": {
    "scrolled": true
   },
   "outputs": [
    {
     "data": {
      "text/plain": [
       "id                0\n",
       "listing_url       0\n",
       "scrape_id         0\n",
       "last_scraped      0\n",
       "source            0\n",
       "               ... \n",
       "Shampoo         197\n",
       "Smoke alarm     197\n",
       "TV              197\n",
       "Washer          197\n",
       "Wifi            197\n",
       "Length: 96, dtype: int64"
      ]
     },
     "execution_count": 217,
     "metadata": {},
     "output_type": "execute_result"
    }
   ],
   "source": [
    "df_airbnb.isna().sum()"
   ]
  },
  {
   "cell_type": "code",
   "execution_count": 218,
   "id": "587e0767",
   "metadata": {},
   "outputs": [],
   "source": [
    "# Fonction pour convertir la colonne 'price' en numérique\n",
    "df_airbnb.price=df_airbnb.price.replace('[$,]', '', regex=True).astype(float)\n"
   ]
  },
  {
   "cell_type": "code",
   "execution_count": 219,
   "id": "d6baf21b",
   "metadata": {},
   "outputs": [
    {
     "data": {
      "text/plain": [
       "0        209.0\n",
       "1        297.0\n",
       "2        110.0\n",
       "3        120.0\n",
       "4        140.0\n",
       "         ...  \n",
       "67937    105.0\n",
       "67938    290.0\n",
       "67939    280.0\n",
       "67940    406.0\n",
       "67941    325.0\n",
       "Name: price, Length: 67942, dtype: float64"
      ]
     },
     "execution_count": 219,
     "metadata": {},
     "output_type": "execute_result"
    }
   ],
   "source": [
    "df_airbnb.price"
   ]
  },
  {
   "cell_type": "code",
   "execution_count": 220,
   "id": "d0168c30",
   "metadata": {},
   "outputs": [
    {
     "name": "stdout",
     "output_type": "stream",
     "text": [
      "count    67942.000000\n",
      "mean       205.105914\n",
      "std        482.048444\n",
      "min          8.000000\n",
      "25%         80.000000\n",
      "50%        125.000000\n",
      "75%        209.000000\n",
      "max      63594.000000\n",
      "Name: price, dtype: float64\n"
     ]
    }
   ],
   "source": [
    "# Afficher les statistiques descriptives de la variable 'price'\n",
    "print(df_airbnb['price'].describe())"
   ]
  },
  {
   "cell_type": "code",
   "execution_count": 221,
   "id": "f09a4688",
   "metadata": {},
   "outputs": [
    {
     "data": {
      "text/plain": [
       "0"
      ]
     },
     "execution_count": 221,
     "metadata": {},
     "output_type": "execute_result"
    }
   ],
   "source": [
    "#verifier s'il ya des valeurs manquantes\n",
    "df_airbnb['price'].isna().sum()"
   ]
  },
  {
   "cell_type": "code",
   "execution_count": 222,
   "id": "b8e46d3b",
   "metadata": {},
   "outputs": [
    {
     "data": {
      "text/html": [
       "<div>\n",
       "<style scoped>\n",
       "    .dataframe tbody tr th:only-of-type {\n",
       "        vertical-align: middle;\n",
       "    }\n",
       "\n",
       "    .dataframe tbody tr th {\n",
       "        vertical-align: top;\n",
       "    }\n",
       "\n",
       "    .dataframe thead th {\n",
       "        text-align: right;\n",
       "    }\n",
       "</style>\n",
       "<table border=\"1\" class=\"dataframe\">\n",
       "  <thead>\n",
       "    <tr style=\"text-align: right;\">\n",
       "      <th></th>\n",
       "      <th>id</th>\n",
       "      <th>listing_url</th>\n",
       "      <th>scrape_id</th>\n",
       "      <th>last_scraped</th>\n",
       "      <th>source</th>\n",
       "      <th>name</th>\n",
       "      <th>description</th>\n",
       "      <th>neighborhood_overview</th>\n",
       "      <th>picture_url</th>\n",
       "      <th>host_id</th>\n",
       "      <th>...</th>\n",
       "      <th>Iron</th>\n",
       "      <th>Kitchen</th>\n",
       "      <th>Microwave</th>\n",
       "      <th>Oven</th>\n",
       "      <th>Refrigerator</th>\n",
       "      <th>Shampoo</th>\n",
       "      <th>Smoke alarm</th>\n",
       "      <th>TV</th>\n",
       "      <th>Washer</th>\n",
       "      <th>Wifi</th>\n",
       "    </tr>\n",
       "  </thead>\n",
       "  <tbody>\n",
       "  </tbody>\n",
       "</table>\n",
       "<p>0 rows × 96 columns</p>\n",
       "</div>"
      ],
      "text/plain": [
       "Empty DataFrame\n",
       "Columns: [id, listing_url, scrape_id, last_scraped, source, name, description, neighborhood_overview, picture_url, host_id, host_url, host_name, host_since, host_location, host_about, host_response_time, host_response_rate, host_acceptance_rate, host_is_superhost, host_thumbnail_url, host_picture_url, host_neighbourhood, host_listings_count, host_total_listings_count, host_verifications, host_has_profile_pic, host_identity_verified, neighbourhood, neighbourhood_cleansed, neighbourhood_group_cleansed, latitude, longitude, property_type, room_type, accommodates, bathrooms, bathrooms_text, bedrooms, beds, amenities, price, minimum_nights, maximum_nights, minimum_minimum_nights, maximum_minimum_nights, minimum_maximum_nights, maximum_maximum_nights, minimum_nights_avg_ntm, maximum_nights_avg_ntm, calendar_updated, has_availability, availability_30, availability_60, availability_90, availability_365, calendar_last_scraped, number_of_reviews, number_of_reviews_ltm, number_of_reviews_l30d, first_review, last_review, review_scores_rating, review_scores_accuracy, review_scores_cleanliness, review_scores_checkin, review_scores_communication, review_scores_location, review_scores_value, license, instant_bookable, calculated_host_listings_count, calculated_host_listings_count_entire_homes, calculated_host_listings_count_private_rooms, calculated_host_listings_count_shared_rooms, reviews_per_month, bathrooms_clean, Bed linens, Cleaning products, Cooking basics, Dedicated workspace, Dishes and silverware, Essentials, Hair dryer, Hangers, Heating, Hot water, Iron, Kitchen, Microwave, Oven, Refrigerator, Shampoo, Smoke alarm, TV, Washer, Wifi]\n",
       "Index: []\n",
       "\n",
       "[0 rows x 96 columns]"
      ]
     },
     "execution_count": 222,
     "metadata": {},
     "output_type": "execute_result"
    }
   ],
   "source": [
    "#Verifier s'il existe des doublons\n",
    "df_airbnb.loc[df_airbnb['id'].duplicated(keep=False), :]"
   ]
  },
  {
   "cell_type": "code",
   "execution_count": 223,
   "id": "aaee3611",
   "metadata": {},
   "outputs": [],
   "source": [
    "# Calculer la médiane de la variable 'Price'\n",
    "#median_price = df_airbnb['price'].median()\n",
    "\n",
    "# Remplacer les valeurs manquantes par la médiane\n",
    "#df_airbnb['price'].fillna(median_price, inplace=True)"
   ]
  },
  {
   "cell_type": "code",
   "execution_count": 224,
   "id": "aa4e1001",
   "metadata": {},
   "outputs": [],
   "source": [
    "#df_airbnb.loc[df_airbnb['Price'].isnull(), :]"
   ]
  },
  {
   "cell_type": "code",
   "execution_count": 225,
   "id": "4a96f514",
   "metadata": {},
   "outputs": [
    {
     "data": {
      "text/plain": [
       "count    67942.000000\n",
       "mean       205.105914\n",
       "std        482.048444\n",
       "min          8.000000\n",
       "25%         80.000000\n",
       "50%        125.000000\n",
       "75%        209.000000\n",
       "max      63594.000000\n",
       "Name: price, dtype: float64"
      ]
     },
     "execution_count": 225,
     "metadata": {},
     "output_type": "execute_result"
    }
   ],
   "source": [
    "#definition de la variable d'inteérêt\n",
    "y=df_airbnb['price']\n",
    "y.describe()"
   ]
  },
  {
   "cell_type": "code",
   "execution_count": 226,
   "id": "f6443c7b",
   "metadata": {
    "scrolled": true
   },
   "outputs": [
    {
     "data": {
      "image/png": "[encoded data removed]",
      "text/plain": [
       "<Figure size 1000x600 with 1 Axes>"
      ]
     },
     "metadata": {},
     "output_type": "display_data"
    }
   ],
   "source": [
    "# Créer un boxplot\n",
    "import seaborn as sns  # Importation de seaborn pour des options de style supplémentaires\n",
    "\n",
    "\n",
    "plt.figure(figsize=(10, 6))  # Spécifiez la taille de la figure (largeur, hauteur)\n",
    "\n",
    "# Utilisez seaborn pour améliorer le style du boxplot\n",
    "sns.boxplot(data=df_airbnb, x='room_type', y='price')  # showfliers=False pour ne pas afficher les valeurs aberrantes\n",
    "\n",
    "plt.title('Boxplot par type de logement')\n",
    "plt.ylabel('Prix')\n",
    "plt.show()"
   ]
  },
  {
   "cell_type": "code",
   "execution_count": 227,
   "id": "bff1f1a6",
   "metadata": {},
   "outputs": [],
   "source": [
    "#correction des valeurs extrêmes de price\n"
   ]
  },
  {
   "cell_type": "markdown",
   "id": "3b39a2d0",
   "metadata": {},
   "source": [
    "#### Variables pouvant expliquer le prix d'un airbnb\n",
    "\n",
    "- Nombre de chambres (bedrooms)\n",
    "- Nombre de salles de bains (bathrooms)\n",
    "- Capacité d'accueil (accommodates)\n",
    "- Type de logement (entire home, private room, shared room, etc.)\n",
    "- Quartier (neighbourhood)\n",
    "- Équipements (amenities)\n",
    "- Distance par rapport aux attractions touristiques ou au centre-ville\n",
    "- Nombre minimal de nuits (minimum nights)\n",
    "- Disponibilité du logement (availability)"
   ]
  },
  {
   "cell_type": "markdown",
   "id": "c333fd95",
   "metadata": {},
   "source": [
    "Kitchen                  63551\n",
    "Wifi                     60669\n",
    "Essentials               58332\n",
    "Smoke alarm              51016\n",
    "Hair dryer               48308\n",
    "Iron                     45549\n",
    "Heating                  45399\n",
    "Hot water                45124\n",
    "Hangers                  44234\n",
    "Dishes and silverware    42212\n",
    "Washer                   42209\n",
    "Cooking basics           39963\n",
    "Refrigerator             38790\n",
    "Bed linens               38530\n",
    "Shampoo                  35599\n",
    "Microwave                31102\n",
    "TV                       30772\n",
    "Dedicated workspace      25109\n",
    "Cleaning products        24730"
   ]
  },
  {
   "cell_type": "code",
   "execution_count": 228,
   "id": "b7866f44",
   "metadata": {},
   "outputs": [
    {
     "data": {
      "text/plain": [
       "id                int64\n",
       "listing_url      object\n",
       "scrape_id         int64\n",
       "last_scraped     object\n",
       "source           object\n",
       "                 ...   \n",
       "Shampoo         float64\n",
       "Smoke alarm     float64\n",
       "TV              float64\n",
       "Washer          float64\n",
       "Wifi            float64\n",
       "Length: 96, dtype: object"
      ]
     },
     "execution_count": 228,
     "metadata": {},
     "output_type": "execute_result"
    }
   ],
   "source": [
    "df_airbnb.dtypes"
   ]
  },
  {
   "cell_type": "code",
   "execution_count": 241,
   "id": "bee60b74",
   "metadata": {},
   "outputs": [
    {
     "data": {
      "text/html": [
       "<div>\n",
       "<style scoped>\n",
       "    .dataframe tbody tr th:only-of-type {\n",
       "        vertical-align: middle;\n",
       "    }\n",
       "\n",
       "    .dataframe tbody tr th {\n",
       "        vertical-align: top;\n",
       "    }\n",
       "\n",
       "    .dataframe thead th {\n",
       "        text-align: right;\n",
       "    }\n",
       "</style>\n",
       "<table border=\"1\" class=\"dataframe\">\n",
       "  <thead>\n",
       "    <tr style=\"text-align: right;\">\n",
       "      <th></th>\n",
       "      <th>neighbourhood_cleansed</th>\n",
       "      <th>room_type</th>\n",
       "      <th>accommodates</th>\n",
       "      <th>Kitchen</th>\n",
       "      <th>Wifi</th>\n",
       "      <th>Essentials</th>\n",
       "      <th>Smoke alarm</th>\n",
       "      <th>Hair dryer</th>\n",
       "      <th>Iron</th>\n",
       "      <th>Heating</th>\n",
       "      <th>Hot water</th>\n",
       "      <th>Hangers</th>\n",
       "      <th>Shampoo</th>\n",
       "      <th>Dedicated workspace</th>\n",
       "      <th>Microwave</th>\n",
       "      <th>TV</th>\n",
       "      <th>Washer</th>\n",
       "      <th>minimum_nights</th>\n",
       "      <th>availability_365</th>\n",
       "    </tr>\n",
       "  </thead>\n",
       "  <tbody>\n",
       "    <tr>\n",
       "      <th>0</th>\n",
       "      <td>Batignolles-Monceau</td>\n",
       "      <td>Entire home/apt</td>\n",
       "      <td>4</td>\n",
       "      <td>1.0</td>\n",
       "      <td>1.0</td>\n",
       "      <td>1.0</td>\n",
       "      <td>1.0</td>\n",
       "      <td>1.0</td>\n",
       "      <td>1.0</td>\n",
       "      <td>1.0</td>\n",
       "      <td>1.0</td>\n",
       "      <td>0.0</td>\n",
       "      <td>0.0</td>\n",
       "      <td>1.0</td>\n",
       "      <td>1.0</td>\n",
       "      <td>0.0</td>\n",
       "      <td>0.0</td>\n",
       "      <td>3</td>\n",
       "      <td>20</td>\n",
       "    </tr>\n",
       "    <tr>\n",
       "      <th>1</th>\n",
       "      <td>Buttes-Montmartre</td>\n",
       "      <td>Entire home/apt</td>\n",
       "      <td>6</td>\n",
       "      <td>1.0</td>\n",
       "      <td>0.0</td>\n",
       "      <td>1.0</td>\n",
       "      <td>1.0</td>\n",
       "      <td>1.0</td>\n",
       "      <td>1.0</td>\n",
       "      <td>1.0</td>\n",
       "      <td>1.0</td>\n",
       "      <td>1.0</td>\n",
       "      <td>1.0</td>\n",
       "      <td>1.0</td>\n",
       "      <td>1.0</td>\n",
       "      <td>0.0</td>\n",
       "      <td>0.0</td>\n",
       "      <td>2</td>\n",
       "      <td>358</td>\n",
       "    </tr>\n",
       "    <tr>\n",
       "      <th>2</th>\n",
       "      <td>Observatoire</td>\n",
       "      <td>Entire home/apt</td>\n",
       "      <td>2</td>\n",
       "      <td>1.0</td>\n",
       "      <td>1.0</td>\n",
       "      <td>0.0</td>\n",
       "      <td>1.0</td>\n",
       "      <td>1.0</td>\n",
       "      <td>1.0</td>\n",
       "      <td>0.0</td>\n",
       "      <td>1.0</td>\n",
       "      <td>1.0</td>\n",
       "      <td>0.0</td>\n",
       "      <td>0.0</td>\n",
       "      <td>0.0</td>\n",
       "      <td>0.0</td>\n",
       "      <td>1.0</td>\n",
       "      <td>2</td>\n",
       "      <td>253</td>\n",
       "    </tr>\n",
       "    <tr>\n",
       "      <th>3</th>\n",
       "      <td>Buttes-Montmartre</td>\n",
       "      <td>Private room</td>\n",
       "      <td>3</td>\n",
       "      <td>1.0</td>\n",
       "      <td>0.0</td>\n",
       "      <td>1.0</td>\n",
       "      <td>1.0</td>\n",
       "      <td>1.0</td>\n",
       "      <td>1.0</td>\n",
       "      <td>1.0</td>\n",
       "      <td>1.0</td>\n",
       "      <td>0.0</td>\n",
       "      <td>1.0</td>\n",
       "      <td>1.0</td>\n",
       "      <td>1.0</td>\n",
       "      <td>0.0</td>\n",
       "      <td>0.0</td>\n",
       "      <td>3</td>\n",
       "      <td>69</td>\n",
       "    </tr>\n",
       "    <tr>\n",
       "      <th>4</th>\n",
       "      <td>Hôtel-de-Ville</td>\n",
       "      <td>Entire home/apt</td>\n",
       "      <td>2</td>\n",
       "      <td>1.0</td>\n",
       "      <td>1.0</td>\n",
       "      <td>1.0</td>\n",
       "      <td>1.0</td>\n",
       "      <td>1.0</td>\n",
       "      <td>1.0</td>\n",
       "      <td>1.0</td>\n",
       "      <td>1.0</td>\n",
       "      <td>1.0</td>\n",
       "      <td>1.0</td>\n",
       "      <td>1.0</td>\n",
       "      <td>0.0</td>\n",
       "      <td>0.0</td>\n",
       "      <td>1.0</td>\n",
       "      <td>1</td>\n",
       "      <td>207</td>\n",
       "    </tr>\n",
       "    <tr>\n",
       "      <th>...</th>\n",
       "      <td>...</td>\n",
       "      <td>...</td>\n",
       "      <td>...</td>\n",
       "      <td>...</td>\n",
       "      <td>...</td>\n",
       "      <td>...</td>\n",
       "      <td>...</td>\n",
       "      <td>...</td>\n",
       "      <td>...</td>\n",
       "      <td>...</td>\n",
       "      <td>...</td>\n",
       "      <td>...</td>\n",
       "      <td>...</td>\n",
       "      <td>...</td>\n",
       "      <td>...</td>\n",
       "      <td>...</td>\n",
       "      <td>...</td>\n",
       "      <td>...</td>\n",
       "      <td>...</td>\n",
       "    </tr>\n",
       "    <tr>\n",
       "      <th>67937</th>\n",
       "      <td>Ménilmontant</td>\n",
       "      <td>Entire home/apt</td>\n",
       "      <td>4</td>\n",
       "      <td>1.0</td>\n",
       "      <td>1.0</td>\n",
       "      <td>1.0</td>\n",
       "      <td>0.0</td>\n",
       "      <td>1.0</td>\n",
       "      <td>1.0</td>\n",
       "      <td>1.0</td>\n",
       "      <td>0.0</td>\n",
       "      <td>1.0</td>\n",
       "      <td>0.0</td>\n",
       "      <td>0.0</td>\n",
       "      <td>1.0</td>\n",
       "      <td>1.0</td>\n",
       "      <td>0.0</td>\n",
       "      <td>1</td>\n",
       "      <td>322</td>\n",
       "    </tr>\n",
       "    <tr>\n",
       "      <th>67938</th>\n",
       "      <td>Popincourt</td>\n",
       "      <td>Entire home/apt</td>\n",
       "      <td>10</td>\n",
       "      <td>1.0</td>\n",
       "      <td>1.0</td>\n",
       "      <td>1.0</td>\n",
       "      <td>1.0</td>\n",
       "      <td>1.0</td>\n",
       "      <td>1.0</td>\n",
       "      <td>1.0</td>\n",
       "      <td>1.0</td>\n",
       "      <td>1.0</td>\n",
       "      <td>0.0</td>\n",
       "      <td>1.0</td>\n",
       "      <td>1.0</td>\n",
       "      <td>1.0</td>\n",
       "      <td>1.0</td>\n",
       "      <td>1</td>\n",
       "      <td>334</td>\n",
       "    </tr>\n",
       "    <tr>\n",
       "      <th>67939</th>\n",
       "      <td>Louvre</td>\n",
       "      <td>Entire home/apt</td>\n",
       "      <td>8</td>\n",
       "      <td>1.0</td>\n",
       "      <td>1.0</td>\n",
       "      <td>1.0</td>\n",
       "      <td>1.0</td>\n",
       "      <td>1.0</td>\n",
       "      <td>1.0</td>\n",
       "      <td>1.0</td>\n",
       "      <td>0.0</td>\n",
       "      <td>1.0</td>\n",
       "      <td>0.0</td>\n",
       "      <td>0.0</td>\n",
       "      <td>1.0</td>\n",
       "      <td>1.0</td>\n",
       "      <td>0.0</td>\n",
       "      <td>1</td>\n",
       "      <td>313</td>\n",
       "    </tr>\n",
       "    <tr>\n",
       "      <th>67940</th>\n",
       "      <td>Opéra</td>\n",
       "      <td>Entire home/apt</td>\n",
       "      <td>8</td>\n",
       "      <td>1.0</td>\n",
       "      <td>1.0</td>\n",
       "      <td>0.0</td>\n",
       "      <td>1.0</td>\n",
       "      <td>1.0</td>\n",
       "      <td>1.0</td>\n",
       "      <td>1.0</td>\n",
       "      <td>1.0</td>\n",
       "      <td>0.0</td>\n",
       "      <td>1.0</td>\n",
       "      <td>0.0</td>\n",
       "      <td>1.0</td>\n",
       "      <td>0.0</td>\n",
       "      <td>1.0</td>\n",
       "      <td>1</td>\n",
       "      <td>361</td>\n",
       "    </tr>\n",
       "    <tr>\n",
       "      <th>67941</th>\n",
       "      <td>Hôtel-de-Ville</td>\n",
       "      <td>Entire home/apt</td>\n",
       "      <td>6</td>\n",
       "      <td>1.0</td>\n",
       "      <td>1.0</td>\n",
       "      <td>0.0</td>\n",
       "      <td>1.0</td>\n",
       "      <td>1.0</td>\n",
       "      <td>1.0</td>\n",
       "      <td>1.0</td>\n",
       "      <td>1.0</td>\n",
       "      <td>0.0</td>\n",
       "      <td>1.0</td>\n",
       "      <td>0.0</td>\n",
       "      <td>1.0</td>\n",
       "      <td>0.0</td>\n",
       "      <td>1.0</td>\n",
       "      <td>1</td>\n",
       "      <td>354</td>\n",
       "    </tr>\n",
       "  </tbody>\n",
       "</table>\n",
       "<p>67942 rows × 19 columns</p>\n",
       "</div>"
      ],
      "text/plain": [
       "      neighbourhood_cleansed        room_type  accommodates  Kitchen  Wifi  \\\n",
       "0        Batignolles-Monceau  Entire home/apt             4      1.0   1.0   \n",
       "1          Buttes-Montmartre  Entire home/apt             6      1.0   0.0   \n",
       "2               Observatoire  Entire home/apt             2      1.0   1.0   \n",
       "3          Buttes-Montmartre     Private room             3      1.0   0.0   \n",
       "4             Hôtel-de-Ville  Entire home/apt             2      1.0   1.0   \n",
       "...                      ...              ...           ...      ...   ...   \n",
       "67937           Ménilmontant  Entire home/apt             4      1.0   1.0   \n",
       "67938             Popincourt  Entire home/apt            10      1.0   1.0   \n",
       "67939                 Louvre  Entire home/apt             8      1.0   1.0   \n",
       "67940                  Opéra  Entire home/apt             8      1.0   1.0   \n",
       "67941         Hôtel-de-Ville  Entire home/apt             6      1.0   1.0   \n",
       "\n",
       "       Essentials  Smoke alarm  Hair dryer  Iron  Heating  Hot water  Hangers  \\\n",
       "0             1.0          1.0         1.0   1.0      1.0        1.0      0.0   \n",
       "1             1.0          1.0         1.0   1.0      1.0        1.0      1.0   \n",
       "2             0.0          1.0         1.0   1.0      0.0        1.0      1.0   \n",
       "3             1.0          1.0         1.0   1.0      1.0        1.0      0.0   \n",
       "4             1.0          1.0         1.0   1.0      1.0        1.0      1.0   \n",
       "...           ...          ...         ...   ...      ...        ...      ...   \n",
       "67937         1.0          0.0         1.0   1.0      1.0        0.0      1.0   \n",
       "67938         1.0          1.0         1.0   1.0      1.0        1.0      1.0   \n",
       "67939         1.0          1.0         1.0   1.0      1.0        0.0      1.0   \n",
       "67940         0.0          1.0         1.0   1.0      1.0        1.0      0.0   \n",
       "67941         0.0          1.0         1.0   1.0      1.0        1.0      0.0   \n",
       "\n",
       "       Shampoo  Dedicated workspace  Microwave   TV  Washer  minimum_nights  \\\n",
       "0          0.0                  1.0        1.0  0.0     0.0               3   \n",
       "1          1.0                  1.0        1.0  0.0     0.0               2   \n",
       "2          0.0                  0.0        0.0  0.0     1.0               2   \n",
       "3          1.0                  1.0        1.0  0.0     0.0               3   \n",
       "4          1.0                  1.0        0.0  0.0     1.0               1   \n",
       "...        ...                  ...        ...  ...     ...             ...   \n",
       "67937      0.0                  0.0        1.0  1.0     0.0               1   \n",
       "67938      0.0                  1.0        1.0  1.0     1.0               1   \n",
       "67939      0.0                  0.0        1.0  1.0     0.0               1   \n",
       "67940      1.0                  0.0        1.0  0.0     1.0               1   \n",
       "67941      1.0                  0.0        1.0  0.0     1.0               1   \n",
       "\n",
       "       availability_365  \n",
       "0                    20  \n",
       "1                   358  \n",
       "2                   253  \n",
       "3                    69  \n",
       "4                   207  \n",
       "...                 ...  \n",
       "67937               322  \n",
       "67938               334  \n",
       "67939               313  \n",
       "67940               361  \n",
       "67941               354  \n",
       "\n",
       "[67942 rows x 19 columns]"
      ]
     },
     "execution_count": 241,
     "metadata": {},
     "output_type": "execute_result"
    }
   ],
   "source": [
    "X = df_airbnb[[ 'neighbourhood_cleansed','room_type','accommodates','Kitchen','Wifi','Essentials','Smoke alarm','Hair dryer','Iron','Heating','Hot water','Hangers','Shampoo','Dedicated workspace','Microwave','TV','Washer','minimum_nights', 'availability_365']]\n",
    "X"
   ]
  },
  {
   "cell_type": "code",
   "execution_count": null,
   "id": "f42404ea",
   "metadata": {},
   "outputs": [],
   "source": []
  },
  {
   "cell_type": "code",
   "execution_count": 242,
   "id": "08db90f5",
   "metadata": {},
   "outputs": [
    {
     "name": "stdout",
     "output_type": "stream",
     "text": [
      "Categorical features:\n",
      " Index(['neighbourhood_cleansed', 'room_type'], dtype='object')\n",
      "\n",
      "Numerical features:\n",
      " Index(['accommodates', 'Kitchen', 'Wifi', 'Essentials', 'Smoke alarm',\n",
      "       'Hair dryer', 'Iron', 'Heating', 'Hot water', 'Hangers', 'Shampoo',\n",
      "       'Dedicated workspace', 'Microwave', 'TV', 'Washer', 'minimum_nights',\n",
      "       'availability_365'],\n",
      "      dtype='object')\n"
     ]
    }
   ],
   "source": [
    "###variables qualitatives et quantitaitve\n",
    "categorical_features = X.select_dtypes(include=\"object\").columns\n",
    "print(f\"Categorical features:\\n {categorical_features}\\n\")\n",
    "\n",
    "numerical_features = X.select_dtypes(include=\"number\").columns\n",
    "print(f\"Numerical features:\\n {numerical_features}\")"
   ]
  },
  {
   "cell_type": "markdown",
   "id": "48c23ce1",
   "metadata": {},
   "source": []
  },
  {
   "cell_type": "code",
   "execution_count": 243,
   "id": "d6fed3f0",
   "metadata": {
    "scrolled": true
   },
   "outputs": [
    {
     "name": "stderr",
     "output_type": "stream",
     "text": [
      "C:\\Users\\Acer\\AppData\\Local\\Temp\\ipykernel_3104\\1745901578.py:2: SettingWithCopyWarning: \n",
      "A value is trying to be set on a copy of a slice from a DataFrame.\n",
      "Try using .loc[row_indexer,col_indexer] = value instead\n",
      "\n",
      "See the caveats in the documentation: https://pandas.pydata.org/pandas-docs/stable/user_guide/indexing.html#returning-a-view-versus-a-copy\n",
      "  X[categorical_features] = X[categorical_features].apply(lambda col: col.fillna(col.mode()[0]))\n",
      "C:\\Users\\Acer\\AppData\\Local\\Temp\\ipykernel_3104\\1745901578.py:5: SettingWithCopyWarning: \n",
      "A value is trying to be set on a copy of a slice from a DataFrame.\n",
      "Try using .loc[row_indexer,col_indexer] = value instead\n",
      "\n",
      "See the caveats in the documentation: https://pandas.pydata.org/pandas-docs/stable/user_guide/indexing.html#returning-a-view-versus-a-copy\n",
      "  X[numerical_features] = X[numerical_features].apply(lambda col: col.fillna(col.median()))\n"
     ]
    },
    {
     "data": {
      "text/plain": [
       "neighbourhood_cleansed    0.0\n",
       "room_type                 0.0\n",
       "accommodates              0.0\n",
       "Kitchen                   0.0\n",
       "Wifi                      0.0\n",
       "Essentials                0.0\n",
       "Smoke alarm               0.0\n",
       "Hair dryer                0.0\n",
       "Iron                      0.0\n",
       "Heating                   0.0\n",
       "Hot water                 0.0\n",
       "Hangers                   0.0\n",
       "Shampoo                   0.0\n",
       "Dedicated workspace       0.0\n",
       "Microwave                 0.0\n",
       "TV                        0.0\n",
       "Washer                    0.0\n",
       "minimum_nights            0.0\n",
       "availability_365          0.0\n",
       "dtype: float64"
      ]
     },
     "execution_count": 243,
     "metadata": {},
     "output_type": "execute_result"
    }
   ],
   "source": [
    "# Remplacer les valeurs manquantes dans les variables catégorielles par le mode\n",
    "X[categorical_features] = X[categorical_features].apply(lambda col: col.fillna(col.mode()[0]))\n",
    "\n",
    "# Remplacer les valeurs manquantes dans les variables numériques par la médiane\n",
    "X[numerical_features] = X[numerical_features].apply(lambda col: col.fillna(col.median()))\n",
    "\n",
    "# Affichage du DataFrame avec les valeurs manquantes remplacées\n",
    "X.isna().sum()/X.shape[0]*100 "
   ]
  },
  {
   "cell_type": "code",
   "execution_count": 244,
   "id": "9da9d24c",
   "metadata": {},
   "outputs": [
    {
     "data": {
      "image/png": "[encoded data removed]",
      "text/plain": [
       "<Figure size 1500x1500 with 2 Axes>"
      ]
     },
     "metadata": {},
     "output_type": "display_data"
    }
   ],
   "source": [
    "# correlation plot\n",
    "plt.figure(figsize=(15, 15))\n",
    "corr = X.assign(target=y).corr()\n",
    "mask = np.zeros_like(corr)\n",
    "mask[np.triu_indices_from(mask)] = True\n",
    "\n",
    "sns.heatmap(corr, cmap='Greens', annot=True, square=True, mask=mask, cbar=True, vmin=None, vmax=None);"
   ]
  },
  {
   "cell_type": "markdown",
   "id": "fab167da",
   "metadata": {},
   "source": [
    "<h3> REGRESSION LINEAIRE</h3>"
   ]
  },
  {
   "cell_type": "code",
   "execution_count": 189,
   "id": "30c371cf",
   "metadata": {},
   "outputs": [
    {
     "data": {
      "text/plain": [
       "Pipeline(steps=[('preprocessor',\n",
       "                 ColumnTransformer(transformers=[('num',\n",
       "                                                  Pipeline(steps=[('imputer',\n",
       "                                                                   SimpleImputer(strategy='median')),\n",
       "                                                                  ('scaler',\n",
       "                                                                   StandardScaler())]),\n",
       "                                                  Index(['accommodates', 'bedrooms', 'bathrooms_clean', 'Kitchen', 'Wifi',\n",
       "       'Essentials', 'Smoke alarm', 'Hair dryer', 'Refrigerator', 'Microwave',\n",
       "       'TV', 'Cleaning products', 'Cooking basics', 'Washer', 'minimum_nights',\n",
       "       'availability_365'],\n",
       "      dtype='object')),\n",
       "                                                 ('cat',\n",
       "                                                  Pipeline(steps=[('simpleimputer',\n",
       "                                                                   SimpleImputer(strategy='most_frequent')),\n",
       "                                                                  ('onehotencoder',\n",
       "                                                                   OneHotEncoder(handle_unknown='ignore'))]),\n",
       "                                                  Index(['neighbourhood_cleansed', 'room_type'], dtype='object'))])),\n",
       "                ('regressor', LinearRegression())])"
      ]
     },
     "execution_count": 189,
     "metadata": {},
     "output_type": "execute_result"
    }
   ],
   "source": [
    "categorical_transformer = make_pipeline(*[SimpleImputer(strategy='most_frequent'),\n",
    "                                          OneHotEncoder(handle_unknown=\"ignore\")]\n",
    "                                       )\n",
    "\n",
    "numeric_transformer = Pipeline(steps=[(\"imputer\", SimpleImputer(strategy=\"median\")),\n",
    "                                      (\"scaler\", StandardScaler())]\n",
    "                              )\n",
    "\n",
    "\n",
    "preprocessor = ColumnTransformer(\n",
    "    transformers=[\n",
    "        (\"num\", numeric_transformer, numerical_features),\n",
    "        (\"cat\", categorical_transformer, categorical_features),\n",
    "    ]\n",
    ")\n",
    "\n",
    "# Append regressor to preprocessing pipeline.\n",
    "# Now we have a full prediction pipeline.\n",
    "\n",
    "\n",
    "reg = Pipeline(\n",
    "    steps=[(\"preprocessor\", preprocessor), (\"regressor\", LinearRegression())]\n",
    ")\n",
    "reg"
   ]
  },
  {
   "cell_type": "markdown",
   "id": "9cf60c78",
   "metadata": {},
   "source": [
    "### Train test split"
   ]
  },
  {
   "cell_type": "code",
   "execution_count": 190,
   "id": "39ac93d9",
   "metadata": {},
   "outputs": [],
   "source": [
    "X_train, X_test, y_train, y_test = train_test_split(X,y, test_size=0.2, random_state=23)\n",
    "\n"
   ]
  },
  {
   "cell_type": "markdown",
   "id": "4d950be6",
   "metadata": {},
   "source": [
    "### Evaluation du modèle"
   ]
  },
  {
   "cell_type": "code",
   "execution_count": 191,
   "id": "613a7b7b",
   "metadata": {},
   "outputs": [],
   "source": [
    "model_reg= reg.fit(X_train, y_train)"
   ]
  },
  {
   "cell_type": "code",
   "execution_count": 192,
   "id": "a16b9bcd",
   "metadata": {},
   "outputs": [
    {
     "data": {
      "text/html": [
       "<div>\n",
       "<style scoped>\n",
       "    .dataframe tbody tr th:only-of-type {\n",
       "        vertical-align: middle;\n",
       "    }\n",
       "\n",
       "    .dataframe tbody tr th {\n",
       "        vertical-align: top;\n",
       "    }\n",
       "\n",
       "    .dataframe thead th {\n",
       "        text-align: right;\n",
       "    }\n",
       "</style>\n",
       "<table border=\"1\" class=\"dataframe\">\n",
       "  <thead>\n",
       "    <tr style=\"text-align: right;\">\n",
       "      <th></th>\n",
       "      <th>fit_time</th>\n",
       "      <th>score_time</th>\n",
       "      <th>test_r2</th>\n",
       "      <th>train_r2</th>\n",
       "      <th>test_neg_mean_squared_error</th>\n",
       "      <th>train_neg_mean_squared_error</th>\n",
       "      <th>test_neg_mean_absolute_percentage_error</th>\n",
       "      <th>train_neg_mean_absolute_percentage_error</th>\n",
       "      <th>test_neg_mean_absolute_error</th>\n",
       "      <th>train_neg_mean_absolute_error</th>\n",
       "    </tr>\n",
       "  </thead>\n",
       "  <tbody>\n",
       "    <tr>\n",
       "      <th>0</th>\n",
       "      <td>0.258839</td>\n",
       "      <td>0.032368</td>\n",
       "      <td>0.131801</td>\n",
       "      <td>0.080796</td>\n",
       "      <td>-136024.842676</td>\n",
       "      <td>-267428.763892</td>\n",
       "      <td>-0.710970</td>\n",
       "      <td>-0.707757</td>\n",
       "      <td>-113.355251</td>\n",
       "      <td>-119.085140</td>\n",
       "    </tr>\n",
       "    <tr>\n",
       "      <th>1</th>\n",
       "      <td>0.253528</td>\n",
       "      <td>0.022203</td>\n",
       "      <td>0.044081</td>\n",
       "      <td>0.115187</td>\n",
       "      <td>-503152.750158</td>\n",
       "      <td>-175653.333037</td>\n",
       "      <td>-0.712812</td>\n",
       "      <td>-0.709981</td>\n",
       "      <td>-118.982735</td>\n",
       "      <td>-117.334649</td>\n",
       "    </tr>\n",
       "    <tr>\n",
       "      <th>2</th>\n",
       "      <td>0.308513</td>\n",
       "      <td>0.051779</td>\n",
       "      <td>0.156552</td>\n",
       "      <td>0.078428</td>\n",
       "      <td>-123697.568764</td>\n",
       "      <td>-270434.947030</td>\n",
       "      <td>-0.710794</td>\n",
       "      <td>-0.702911</td>\n",
       "      <td>-117.030789</td>\n",
       "      <td>-117.915769</td>\n",
       "    </tr>\n",
       "    <tr>\n",
       "      <th>3</th>\n",
       "      <td>0.258959</td>\n",
       "      <td>0.040031</td>\n",
       "      <td>0.119643</td>\n",
       "      <td>0.081411</td>\n",
       "      <td>-171217.082367</td>\n",
       "      <td>-258571.238049</td>\n",
       "      <td>-0.698341</td>\n",
       "      <td>-0.717648</td>\n",
       "      <td>-120.196837</td>\n",
       "      <td>-118.439845</td>\n",
       "    </tr>\n",
       "    <tr>\n",
       "      <th>4</th>\n",
       "      <td>0.276608</td>\n",
       "      <td>0.022202</td>\n",
       "      <td>0.072452</td>\n",
       "      <td>0.091161</td>\n",
       "      <td>-274756.758468</td>\n",
       "      <td>-232712.952862</td>\n",
       "      <td>-0.717167</td>\n",
       "      <td>-0.706393</td>\n",
       "      <td>-122.002215</td>\n",
       "      <td>-118.010544</td>\n",
       "    </tr>\n",
       "  </tbody>\n",
       "</table>\n",
       "</div>"
      ],
      "text/plain": [
       "   fit_time  score_time   test_r2  train_r2  test_neg_mean_squared_error  \\\n",
       "0  0.258839    0.032368  0.131801  0.080796               -136024.842676   \n",
       "1  0.253528    0.022203  0.044081  0.115187               -503152.750158   \n",
       "2  0.308513    0.051779  0.156552  0.078428               -123697.568764   \n",
       "3  0.258959    0.040031  0.119643  0.081411               -171217.082367   \n",
       "4  0.276608    0.022202  0.072452  0.091161               -274756.758468   \n",
       "\n",
       "   train_neg_mean_squared_error  test_neg_mean_absolute_percentage_error  \\\n",
       "0                -267428.763892                                -0.710970   \n",
       "1                -175653.333037                                -0.712812   \n",
       "2                -270434.947030                                -0.710794   \n",
       "3                -258571.238049                                -0.698341   \n",
       "4                -232712.952862                                -0.717167   \n",
       "\n",
       "   train_neg_mean_absolute_percentage_error  test_neg_mean_absolute_error  \\\n",
       "0                                 -0.707757                   -113.355251   \n",
       "1                                 -0.709981                   -118.982735   \n",
       "2                                 -0.702911                   -117.030789   \n",
       "3                                 -0.717648                   -120.196837   \n",
       "4                                 -0.706393                   -122.002215   \n",
       "\n",
       "   train_neg_mean_absolute_error  \n",
       "0                    -119.085140  \n",
       "1                    -117.334649  \n",
       "2                    -117.915769  \n",
       "3                    -118.439845  \n",
       "4                    -118.010544  "
      ]
     },
     "execution_count": 192,
     "metadata": {},
     "output_type": "execute_result"
    }
   ],
   "source": [
    "# cross validation only\n",
    "cv_results = cross_validate(model_reg,\n",
    "                            X_train, y_train,\n",
    "                            cv=5,\n",
    "                            scoring=(\"r2\", \"neg_mean_squared_error\",\n",
    "                                     \"neg_mean_absolute_percentage_error\", \"neg_mean_absolute_error\"),\n",
    "                            return_train_score=True)\n",
    "cv_result_reg = pd.DataFrame(cv_results)\n",
    "cv_result_reg"
   ]
  },
  {
   "cell_type": "code",
   "execution_count": 193,
   "id": "22e44d3a",
   "metadata": {},
   "outputs": [],
   "source": [
    "#cv_result_reg[[\"train_r2\", \"test_r2\"]].plot(kind=\"barh\", figsize=(8, 5));"
   ]
  },
  {
   "cell_type": "code",
   "execution_count": 194,
   "id": "0a577d86",
   "metadata": {},
   "outputs": [],
   "source": [
    "y_test_pred = reg.predict(X_test)\n",
    "y_train_pred = reg.predict(X_train)"
   ]
  },
  {
   "cell_type": "code",
   "execution_count": 195,
   "id": "4f5ae60a",
   "metadata": {},
   "outputs": [],
   "source": [
    "def get_performances(real_value, estimated_value, metrics):\n",
    "    perfs = []\n",
    "    for metric_func in metrics:\n",
    "        perfs.append((metric_func.__name__, metric_func(real_value, estimated_value)))\n",
    "    return pd.DataFrame(perfs, columns=[\"metric\", \"value\"])\n",
    "\n",
    "\n",
    "def get_all_performances(value_train, values_test, metrics):\n",
    "    test_perfs = []\n",
    "    train_perfs = []\n",
    "    metric_names = []\n",
    "    for metric_func in metrics:\n",
    "        metric_name = metric_func.__name__\n",
    "        metric_names.append(metric_name)\n",
    "        train_perfs.append(metric_func(*value_train))\n",
    "        test_perfs.append(metric_func(*values_test))\n",
    "    perfs = {\"metric\": metric_names, \"train\": train_perfs, \"test\": test_perfs,}\n",
    "    return pd.DataFrame(perfs)"
   ]
  },
  {
   "cell_type": "code",
   "execution_count": 196,
   "id": "ad01679f",
   "metadata": {},
   "outputs": [
    {
     "data": {
      "text/html": [
       "<div>\n",
       "<style scoped>\n",
       "    .dataframe tbody tr th:only-of-type {\n",
       "        vertical-align: middle;\n",
       "    }\n",
       "\n",
       "    .dataframe tbody tr th {\n",
       "        vertical-align: top;\n",
       "    }\n",
       "\n",
       "    .dataframe thead th {\n",
       "        text-align: right;\n",
       "    }\n",
       "</style>\n",
       "<table border=\"1\" class=\"dataframe\">\n",
       "  <thead>\n",
       "    <tr style=\"text-align: right;\">\n",
       "      <th></th>\n",
       "      <th>metric</th>\n",
       "      <th>value</th>\n",
       "    </tr>\n",
       "  </thead>\n",
       "  <tbody>\n",
       "    <tr>\n",
       "      <th>0</th>\n",
       "      <td>r2_score</td>\n",
       "      <td>0.186316</td>\n",
       "    </tr>\n",
       "    <tr>\n",
       "      <th>1</th>\n",
       "      <td>mean_squared_error</td>\n",
       "      <td>85803.352356</td>\n",
       "    </tr>\n",
       "    <tr>\n",
       "      <th>2</th>\n",
       "      <td>mean_absolute_percentage_error</td>\n",
       "      <td>0.712334</td>\n",
       "    </tr>\n",
       "    <tr>\n",
       "      <th>3</th>\n",
       "      <td>max_error</td>\n",
       "      <td>11323.418142</td>\n",
       "    </tr>\n",
       "  </tbody>\n",
       "</table>\n",
       "</div>"
      ],
      "text/plain": [
       "                           metric         value\n",
       "0                        r2_score      0.186316\n",
       "1              mean_squared_error  85803.352356\n",
       "2  mean_absolute_percentage_error      0.712334\n",
       "3                       max_error  11323.418142"
      ]
     },
     "execution_count": 196,
     "metadata": {},
     "output_type": "execute_result"
    }
   ],
   "source": [
    "METRICS = [r2_score,\n",
    "           mean_squared_error,\n",
    "           mean_absolute_percentage_error,\n",
    "           max_error,\n",
    "          ]\n",
    "# get performance on single set\n",
    "get_performances(real_value=y_test, estimated_value=y_test_pred, metrics=METRICS)"
   ]
  },
  {
   "cell_type": "code",
   "execution_count": 197,
   "id": "a88b68cf",
   "metadata": {
    "scrolled": true
   },
   "outputs": [
    {
     "data": {
      "text/html": [
       "<div>\n",
       "<style scoped>\n",
       "    .dataframe tbody tr th:only-of-type {\n",
       "        vertical-align: middle;\n",
       "    }\n",
       "\n",
       "    .dataframe tbody tr th {\n",
       "        vertical-align: top;\n",
       "    }\n",
       "\n",
       "    .dataframe thead th {\n",
       "        text-align: right;\n",
       "    }\n",
       "</style>\n",
       "<table border=\"1\" class=\"dataframe\">\n",
       "  <thead>\n",
       "    <tr style=\"text-align: right;\">\n",
       "      <th></th>\n",
       "      <th>metric</th>\n",
       "      <th>train</th>\n",
       "      <th>test</th>\n",
       "    </tr>\n",
       "  </thead>\n",
       "  <tbody>\n",
       "    <tr>\n",
       "      <th>0</th>\n",
       "      <td>r2_score</td>\n",
       "      <td>0.087278</td>\n",
       "      <td>0.186316</td>\n",
       "    </tr>\n",
       "    <tr>\n",
       "      <th>1</th>\n",
       "      <td>mean_squared_error</td>\n",
       "      <td>241040.986400</td>\n",
       "      <td>85803.352356</td>\n",
       "    </tr>\n",
       "    <tr>\n",
       "      <th>2</th>\n",
       "      <td>mean_absolute_percentage_error</td>\n",
       "      <td>0.707589</td>\n",
       "      <td>0.712334</td>\n",
       "    </tr>\n",
       "    <tr>\n",
       "      <th>3</th>\n",
       "      <td>max_error</td>\n",
       "      <td>62947.794709</td>\n",
       "      <td>11323.418142</td>\n",
       "    </tr>\n",
       "  </tbody>\n",
       "</table>\n",
       "</div>"
      ],
      "text/plain": [
       "                           metric          train          test\n",
       "0                        r2_score       0.087278      0.186316\n",
       "1              mean_squared_error  241040.986400  85803.352356\n",
       "2  mean_absolute_percentage_error       0.707589      0.712334\n",
       "3                       max_error   62947.794709  11323.418142"
      ]
     },
     "execution_count": 197,
     "metadata": {},
     "output_type": "execute_result"
    }
   ],
   "source": [
    "# get performances in train & test\n",
    "get_all_performances(value_train=(y_train, y_train_pred),\n",
    "                     values_test=(y_test, y_test_pred),\n",
    "                     metrics=METRICS\n",
    "                    )"
   ]
  },
  {
   "cell_type": "markdown",
   "id": "32b28fe8",
   "metadata": {},
   "source": [
    "### Optimisation des hyperparamètres de la régression linéaire"
   ]
  },
  {
   "cell_type": "code",
   "execution_count": 198,
   "id": "267d6b00",
   "metadata": {},
   "outputs": [
    {
     "data": {
      "text/plain": [
       "GridSearchCV(cv=10,\n",
       "             estimator=Pipeline(steps=[('preprocessor',\n",
       "                                        ColumnTransformer(transformers=[('num',\n",
       "                                                                         Pipeline(steps=[('imputer',\n",
       "                                                                                          SimpleImputer(strategy='median')),\n",
       "                                                                                         ('scaler',\n",
       "                                                                                          StandardScaler())]),\n",
       "                                                                         Index(['accommodates', 'bedrooms', 'bathrooms_clean', 'Kitchen', 'Wifi',\n",
       "       'Essentials', 'Smoke alarm', 'Hair dryer', 'Refrigerator', 'Microwave',\n",
       "       'TV', 'Cleaning products', 'C...\n",
       "                                                                                          OneHotEncoder(handle_unknown='ignore'))]),\n",
       "                                                                         Index(['neighbourhood_cleansed', 'room_type'], dtype='object'))])),\n",
       "                                       ('regressor', LinearRegression())]),\n",
       "             param_grid={'preprocessor__num__imputer__strategy': ['mean',\n",
       "                                                                  'median',\n",
       "                                                                  'most_frequent'],\n",
       "                         'preprocessor__num__scaler': [StandardScaler(),\n",
       "                                                       MinMaxScaler(),\n",
       "                                                       RobustScaler()],\n",
       "                         'regressor__fit_intercept': [True, False]},\n",
       "             return_train_score=True, scoring='r2')"
      ]
     },
     "execution_count": 198,
     "metadata": {},
     "output_type": "execute_result"
    }
   ],
   "source": [
    "param_grid = {\n",
    "    \"preprocessor__num__imputer__strategy\": [\"mean\", \"median\",\"most_frequent\"],\n",
    "    \"regressor__fit_intercept\": [True, False],\n",
    "    \"preprocessor__num__scaler\": [ StandardScaler(), MinMaxScaler(), RobustScaler()],\n",
    "}\n",
    "\n",
    "\n",
    "grid_search = GridSearchCV(reg, param_grid, cv=10, scoring=\"r2\", return_train_score=True) # r2\n",
    "# you can see the list of key for scoring: sorted(sklearn.metrics.SCORERS.keys())\n",
    "grid_search"
   ]
  },
  {
   "cell_type": "code",
   "execution_count": 199,
   "id": "5233a3a2",
   "metadata": {},
   "outputs": [
    {
     "name": "stderr",
     "output_type": "stream",
     "text": [
      "C:\\ProgramData\\Anaconda3\\lib\\site-packages\\sklearn\\impute\\_base.py:49: FutureWarning: Unlike other reduction functions (e.g. `skew`, `kurtosis`), the default behavior of `mode` typically preserves the axis it acts along. In SciPy 1.11.0, this behavior will change: the default value of `keepdims` will become False, the `axis` over which the statistic is taken will be eliminated, and the value None will no longer be accepted. Set `keepdims` to True or False to avoid this warning.\n",
      "  mode = stats.mode(array)\n",
      "C:\\ProgramData\\Anaconda3\\lib\\site-packages\\sklearn\\impute\\_base.py:49: FutureWarning: Unlike other reduction functions (e.g. `skew`, `kurtosis`), the default behavior of `mode` typically preserves the axis it acts along. In SciPy 1.11.0, this behavior will change: the default value of `keepdims` will become False, the `axis` over which the statistic is taken will be eliminated, and the value None will no longer be accepted. Set `keepdims` to True or False to avoid this warning.\n",
      "  mode = stats.mode(array)\n",
      "C:\\ProgramData\\Anaconda3\\lib\\site-packages\\sklearn\\impute\\_base.py:49: FutureWarning: Unlike other reduction functions (e.g. `skew`, `kurtosis`), the default behavior of `mode` typically preserves the axis it acts along. In SciPy 1.11.0, this behavior will change: the default value of `keepdims` will become False, the `axis` over which the statistic is taken will be eliminated, and the value None will no longer be accepted. Set `keepdims` to True or False to avoid this warning.\n",
      "  mode = stats.mode(array)\n",
      "C:\\ProgramData\\Anaconda3\\lib\\site-packages\\sklearn\\impute\\_base.py:49: FutureWarning: Unlike other reduction functions (e.g. `skew`, `kurtosis`), the default behavior of `mode` typically preserves the axis it acts along. In SciPy 1.11.0, this behavior will change: the default value of `keepdims` will become False, the `axis` over which the statistic is taken will be eliminated, and the value None will no longer be accepted. Set `keepdims` to True or False to avoid this warning.\n",
      "  mode = stats.mode(array)\n",
      "C:\\ProgramData\\Anaconda3\\lib\\site-packages\\sklearn\\impute\\_base.py:49: FutureWarning: Unlike other reduction functions (e.g. `skew`, `kurtosis`), the default behavior of `mode` typically preserves the axis it acts along. In SciPy 1.11.0, this behavior will change: the default value of `keepdims` will become False, the `axis` over which the statistic is taken will be eliminated, and the value None will no longer be accepted. Set `keepdims` to True or False to avoid this warning.\n",
      "  mode = stats.mode(array)\n",
      "C:\\ProgramData\\Anaconda3\\lib\\site-packages\\sklearn\\impute\\_base.py:49: FutureWarning: Unlike other reduction functions (e.g. `skew`, `kurtosis`), the default behavior of `mode` typically preserves the axis it acts along. In SciPy 1.11.0, this behavior will change: the default value of `keepdims` will become False, the `axis` over which the statistic is taken will be eliminated, and the value None will no longer be accepted. Set `keepdims` to True or False to avoid this warning.\n",
      "  mode = stats.mode(array)\n",
      "C:\\ProgramData\\Anaconda3\\lib\\site-packages\\sklearn\\impute\\_base.py:49: FutureWarning: Unlike other reduction functions (e.g. `skew`, `kurtosis`), the default behavior of `mode` typically preserves the axis it acts along. In SciPy 1.11.0, this behavior will change: the default value of `keepdims` will become False, the `axis` over which the statistic is taken will be eliminated, and the value None will no longer be accepted. Set `keepdims` to True or False to avoid this warning.\n",
      "  mode = stats.mode(array)\n",
      "C:\\ProgramData\\Anaconda3\\lib\\site-packages\\sklearn\\impute\\_base.py:49: FutureWarning: Unlike other reduction functions (e.g. `skew`, `kurtosis`), the default behavior of `mode` typically preserves the axis it acts along. In SciPy 1.11.0, this behavior will change: the default value of `keepdims` will become False, the `axis` over which the statistic is taken will be eliminated, and the value None will no longer be accepted. Set `keepdims` to True or False to avoid this warning.\n",
      "  mode = stats.mode(array)\n",
      "C:\\ProgramData\\Anaconda3\\lib\\site-packages\\sklearn\\impute\\_base.py:49: FutureWarning: Unlike other reduction functions (e.g. `skew`, `kurtosis`), the default behavior of `mode` typically preserves the axis it acts along. In SciPy 1.11.0, this behavior will change: the default value of `keepdims` will become False, the `axis` over which the statistic is taken will be eliminated, and the value None will no longer be accepted. Set `keepdims` to True or False to avoid this warning.\n",
      "  mode = stats.mode(array)\n",
      "C:\\ProgramData\\Anaconda3\\lib\\site-packages\\sklearn\\impute\\_base.py:49: FutureWarning: Unlike other reduction functions (e.g. `skew`, `kurtosis`), the default behavior of `mode` typically preserves the axis it acts along. In SciPy 1.11.0, this behavior will change: the default value of `keepdims` will become False, the `axis` over which the statistic is taken will be eliminated, and the value None will no longer be accepted. Set `keepdims` to True or False to avoid this warning.\n",
      "  mode = stats.mode(array)\n",
      "C:\\ProgramData\\Anaconda3\\lib\\site-packages\\sklearn\\impute\\_base.py:49: FutureWarning: Unlike other reduction functions (e.g. `skew`, `kurtosis`), the default behavior of `mode` typically preserves the axis it acts along. In SciPy 1.11.0, this behavior will change: the default value of `keepdims` will become False, the `axis` over which the statistic is taken will be eliminated, and the value None will no longer be accepted. Set `keepdims` to True or False to avoid this warning.\n",
      "  mode = stats.mode(array)\n",
      "C:\\ProgramData\\Anaconda3\\lib\\site-packages\\sklearn\\impute\\_base.py:49: FutureWarning: Unlike other reduction functions (e.g. `skew`, `kurtosis`), the default behavior of `mode` typically preserves the axis it acts along. In SciPy 1.11.0, this behavior will change: the default value of `keepdims` will become False, the `axis` over which the statistic is taken will be eliminated, and the value None will no longer be accepted. Set `keepdims` to True or False to avoid this warning.\n",
      "  mode = stats.mode(array)\n",
      "C:\\ProgramData\\Anaconda3\\lib\\site-packages\\sklearn\\impute\\_base.py:49: FutureWarning: Unlike other reduction functions (e.g. `skew`, `kurtosis`), the default behavior of `mode` typically preserves the axis it acts along. In SciPy 1.11.0, this behavior will change: the default value of `keepdims` will become False, the `axis` over which the statistic is taken will be eliminated, and the value None will no longer be accepted. Set `keepdims` to True or False to avoid this warning.\n",
      "  mode = stats.mode(array)\n",
      "C:\\ProgramData\\Anaconda3\\lib\\site-packages\\sklearn\\impute\\_base.py:49: FutureWarning: Unlike other reduction functions (e.g. `skew`, `kurtosis`), the default behavior of `mode` typically preserves the axis it acts along. In SciPy 1.11.0, this behavior will change: the default value of `keepdims` will become False, the `axis` over which the statistic is taken will be eliminated, and the value None will no longer be accepted. Set `keepdims` to True or False to avoid this warning.\n",
      "  mode = stats.mode(array)\n",
      "C:\\ProgramData\\Anaconda3\\lib\\site-packages\\sklearn\\impute\\_base.py:49: FutureWarning: Unlike other reduction functions (e.g. `skew`, `kurtosis`), the default behavior of `mode` typically preserves the axis it acts along. In SciPy 1.11.0, this behavior will change: the default value of `keepdims` will become False, the `axis` over which the statistic is taken will be eliminated, and the value None will no longer be accepted. Set `keepdims` to True or False to avoid this warning.\n",
      "  mode = stats.mode(array)\n",
      "C:\\ProgramData\\Anaconda3\\lib\\site-packages\\sklearn\\impute\\_base.py:49: FutureWarning: Unlike other reduction functions (e.g. `skew`, `kurtosis`), the default behavior of `mode` typically preserves the axis it acts along. In SciPy 1.11.0, this behavior will change: the default value of `keepdims` will become False, the `axis` over which the statistic is taken will be eliminated, and the value None will no longer be accepted. Set `keepdims` to True or False to avoid this warning.\n",
      "  mode = stats.mode(array)\n",
      "C:\\ProgramData\\Anaconda3\\lib\\site-packages\\sklearn\\impute\\_base.py:49: FutureWarning: Unlike other reduction functions (e.g. `skew`, `kurtosis`), the default behavior of `mode` typically preserves the axis it acts along. In SciPy 1.11.0, this behavior will change: the default value of `keepdims` will become False, the `axis` over which the statistic is taken will be eliminated, and the value None will no longer be accepted. Set `keepdims` to True or False to avoid this warning.\n",
      "  mode = stats.mode(array)\n"
     ]
    },
    {
     "name": "stderr",
     "output_type": "stream",
     "text": [
      "C:\\ProgramData\\Anaconda3\\lib\\site-packages\\sklearn\\impute\\_base.py:49: FutureWarning: Unlike other reduction functions (e.g. `skew`, `kurtosis`), the default behavior of `mode` typically preserves the axis it acts along. In SciPy 1.11.0, this behavior will change: the default value of `keepdims` will become False, the `axis` over which the statistic is taken will be eliminated, and the value None will no longer be accepted. Set `keepdims` to True or False to avoid this warning.\n",
      "  mode = stats.mode(array)\n",
      "C:\\ProgramData\\Anaconda3\\lib\\site-packages\\sklearn\\impute\\_base.py:49: FutureWarning: Unlike other reduction functions (e.g. `skew`, `kurtosis`), the default behavior of `mode` typically preserves the axis it acts along. In SciPy 1.11.0, this behavior will change: the default value of `keepdims` will become False, the `axis` over which the statistic is taken will be eliminated, and the value None will no longer be accepted. Set `keepdims` to True or False to avoid this warning.\n",
      "  mode = stats.mode(array)\n",
      "C:\\ProgramData\\Anaconda3\\lib\\site-packages\\sklearn\\impute\\_base.py:49: FutureWarning: Unlike other reduction functions (e.g. `skew`, `kurtosis`), the default behavior of `mode` typically preserves the axis it acts along. In SciPy 1.11.0, this behavior will change: the default value of `keepdims` will become False, the `axis` over which the statistic is taken will be eliminated, and the value None will no longer be accepted. Set `keepdims` to True or False to avoid this warning.\n",
      "  mode = stats.mode(array)\n",
      "C:\\ProgramData\\Anaconda3\\lib\\site-packages\\sklearn\\impute\\_base.py:49: FutureWarning: Unlike other reduction functions (e.g. `skew`, `kurtosis`), the default behavior of `mode` typically preserves the axis it acts along. In SciPy 1.11.0, this behavior will change: the default value of `keepdims` will become False, the `axis` over which the statistic is taken will be eliminated, and the value None will no longer be accepted. Set `keepdims` to True or False to avoid this warning.\n",
      "  mode = stats.mode(array)\n",
      "C:\\ProgramData\\Anaconda3\\lib\\site-packages\\sklearn\\impute\\_base.py:49: FutureWarning: Unlike other reduction functions (e.g. `skew`, `kurtosis`), the default behavior of `mode` typically preserves the axis it acts along. In SciPy 1.11.0, this behavior will change: the default value of `keepdims` will become False, the `axis` over which the statistic is taken will be eliminated, and the value None will no longer be accepted. Set `keepdims` to True or False to avoid this warning.\n",
      "  mode = stats.mode(array)\n",
      "C:\\ProgramData\\Anaconda3\\lib\\site-packages\\sklearn\\impute\\_base.py:49: FutureWarning: Unlike other reduction functions (e.g. `skew`, `kurtosis`), the default behavior of `mode` typically preserves the axis it acts along. In SciPy 1.11.0, this behavior will change: the default value of `keepdims` will become False, the `axis` over which the statistic is taken will be eliminated, and the value None will no longer be accepted. Set `keepdims` to True or False to avoid this warning.\n",
      "  mode = stats.mode(array)\n",
      "C:\\ProgramData\\Anaconda3\\lib\\site-packages\\sklearn\\impute\\_base.py:49: FutureWarning: Unlike other reduction functions (e.g. `skew`, `kurtosis`), the default behavior of `mode` typically preserves the axis it acts along. In SciPy 1.11.0, this behavior will change: the default value of `keepdims` will become False, the `axis` over which the statistic is taken will be eliminated, and the value None will no longer be accepted. Set `keepdims` to True or False to avoid this warning.\n",
      "  mode = stats.mode(array)\n",
      "C:\\ProgramData\\Anaconda3\\lib\\site-packages\\sklearn\\impute\\_base.py:49: FutureWarning: Unlike other reduction functions (e.g. `skew`, `kurtosis`), the default behavior of `mode` typically preserves the axis it acts along. In SciPy 1.11.0, this behavior will change: the default value of `keepdims` will become False, the `axis` over which the statistic is taken will be eliminated, and the value None will no longer be accepted. Set `keepdims` to True or False to avoid this warning.\n",
      "  mode = stats.mode(array)\n",
      "C:\\ProgramData\\Anaconda3\\lib\\site-packages\\sklearn\\impute\\_base.py:49: FutureWarning: Unlike other reduction functions (e.g. `skew`, `kurtosis`), the default behavior of `mode` typically preserves the axis it acts along. In SciPy 1.11.0, this behavior will change: the default value of `keepdims` will become False, the `axis` over which the statistic is taken will be eliminated, and the value None will no longer be accepted. Set `keepdims` to True or False to avoid this warning.\n",
      "  mode = stats.mode(array)\n",
      "C:\\ProgramData\\Anaconda3\\lib\\site-packages\\sklearn\\impute\\_base.py:49: FutureWarning: Unlike other reduction functions (e.g. `skew`, `kurtosis`), the default behavior of `mode` typically preserves the axis it acts along. In SciPy 1.11.0, this behavior will change: the default value of `keepdims` will become False, the `axis` over which the statistic is taken will be eliminated, and the value None will no longer be accepted. Set `keepdims` to True or False to avoid this warning.\n",
      "  mode = stats.mode(array)\n",
      "C:\\ProgramData\\Anaconda3\\lib\\site-packages\\sklearn\\impute\\_base.py:49: FutureWarning: Unlike other reduction functions (e.g. `skew`, `kurtosis`), the default behavior of `mode` typically preserves the axis it acts along. In SciPy 1.11.0, this behavior will change: the default value of `keepdims` will become False, the `axis` over which the statistic is taken will be eliminated, and the value None will no longer be accepted. Set `keepdims` to True or False to avoid this warning.\n",
      "  mode = stats.mode(array)\n",
      "C:\\ProgramData\\Anaconda3\\lib\\site-packages\\sklearn\\impute\\_base.py:49: FutureWarning: Unlike other reduction functions (e.g. `skew`, `kurtosis`), the default behavior of `mode` typically preserves the axis it acts along. In SciPy 1.11.0, this behavior will change: the default value of `keepdims` will become False, the `axis` over which the statistic is taken will be eliminated, and the value None will no longer be accepted. Set `keepdims` to True or False to avoid this warning.\n",
      "  mode = stats.mode(array)\n",
      "C:\\ProgramData\\Anaconda3\\lib\\site-packages\\sklearn\\impute\\_base.py:49: FutureWarning: Unlike other reduction functions (e.g. `skew`, `kurtosis`), the default behavior of `mode` typically preserves the axis it acts along. In SciPy 1.11.0, this behavior will change: the default value of `keepdims` will become False, the `axis` over which the statistic is taken will be eliminated, and the value None will no longer be accepted. Set `keepdims` to True or False to avoid this warning.\n",
      "  mode = stats.mode(array)\n",
      "C:\\ProgramData\\Anaconda3\\lib\\site-packages\\sklearn\\impute\\_base.py:49: FutureWarning: Unlike other reduction functions (e.g. `skew`, `kurtosis`), the default behavior of `mode` typically preserves the axis it acts along. In SciPy 1.11.0, this behavior will change: the default value of `keepdims` will become False, the `axis` over which the statistic is taken will be eliminated, and the value None will no longer be accepted. Set `keepdims` to True or False to avoid this warning.\n",
      "  mode = stats.mode(array)\n",
      "C:\\ProgramData\\Anaconda3\\lib\\site-packages\\sklearn\\impute\\_base.py:49: FutureWarning: Unlike other reduction functions (e.g. `skew`, `kurtosis`), the default behavior of `mode` typically preserves the axis it acts along. In SciPy 1.11.0, this behavior will change: the default value of `keepdims` will become False, the `axis` over which the statistic is taken will be eliminated, and the value None will no longer be accepted. Set `keepdims` to True or False to avoid this warning.\n",
      "  mode = stats.mode(array)\n",
      "C:\\ProgramData\\Anaconda3\\lib\\site-packages\\sklearn\\impute\\_base.py:49: FutureWarning: Unlike other reduction functions (e.g. `skew`, `kurtosis`), the default behavior of `mode` typically preserves the axis it acts along. In SciPy 1.11.0, this behavior will change: the default value of `keepdims` will become False, the `axis` over which the statistic is taken will be eliminated, and the value None will no longer be accepted. Set `keepdims` to True or False to avoid this warning.\n",
      "  mode = stats.mode(array)\n",
      "C:\\ProgramData\\Anaconda3\\lib\\site-packages\\sklearn\\impute\\_base.py:49: FutureWarning: Unlike other reduction functions (e.g. `skew`, `kurtosis`), the default behavior of `mode` typically preserves the axis it acts along. In SciPy 1.11.0, this behavior will change: the default value of `keepdims` will become False, the `axis` over which the statistic is taken will be eliminated, and the value None will no longer be accepted. Set `keepdims` to True or False to avoid this warning.\n",
      "  mode = stats.mode(array)\n"
     ]
    },
    {
     "name": "stderr",
     "output_type": "stream",
     "text": [
      "C:\\ProgramData\\Anaconda3\\lib\\site-packages\\sklearn\\impute\\_base.py:49: FutureWarning: Unlike other reduction functions (e.g. `skew`, `kurtosis`), the default behavior of `mode` typically preserves the axis it acts along. In SciPy 1.11.0, this behavior will change: the default value of `keepdims` will become False, the `axis` over which the statistic is taken will be eliminated, and the value None will no longer be accepted. Set `keepdims` to True or False to avoid this warning.\n",
      "  mode = stats.mode(array)\n",
      "C:\\ProgramData\\Anaconda3\\lib\\site-packages\\sklearn\\impute\\_base.py:49: FutureWarning: Unlike other reduction functions (e.g. `skew`, `kurtosis`), the default behavior of `mode` typically preserves the axis it acts along. In SciPy 1.11.0, this behavior will change: the default value of `keepdims` will become False, the `axis` over which the statistic is taken will be eliminated, and the value None will no longer be accepted. Set `keepdims` to True or False to avoid this warning.\n",
      "  mode = stats.mode(array)\n",
      "C:\\ProgramData\\Anaconda3\\lib\\site-packages\\sklearn\\impute\\_base.py:49: FutureWarning: Unlike other reduction functions (e.g. `skew`, `kurtosis`), the default behavior of `mode` typically preserves the axis it acts along. In SciPy 1.11.0, this behavior will change: the default value of `keepdims` will become False, the `axis` over which the statistic is taken will be eliminated, and the value None will no longer be accepted. Set `keepdims` to True or False to avoid this warning.\n",
      "  mode = stats.mode(array)\n",
      "C:\\ProgramData\\Anaconda3\\lib\\site-packages\\sklearn\\impute\\_base.py:49: FutureWarning: Unlike other reduction functions (e.g. `skew`, `kurtosis`), the default behavior of `mode` typically preserves the axis it acts along. In SciPy 1.11.0, this behavior will change: the default value of `keepdims` will become False, the `axis` over which the statistic is taken will be eliminated, and the value None will no longer be accepted. Set `keepdims` to True or False to avoid this warning.\n",
      "  mode = stats.mode(array)\n",
      "C:\\ProgramData\\Anaconda3\\lib\\site-packages\\sklearn\\impute\\_base.py:49: FutureWarning: Unlike other reduction functions (e.g. `skew`, `kurtosis`), the default behavior of `mode` typically preserves the axis it acts along. In SciPy 1.11.0, this behavior will change: the default value of `keepdims` will become False, the `axis` over which the statistic is taken will be eliminated, and the value None will no longer be accepted. Set `keepdims` to True or False to avoid this warning.\n",
      "  mode = stats.mode(array)\n",
      "C:\\ProgramData\\Anaconda3\\lib\\site-packages\\sklearn\\impute\\_base.py:49: FutureWarning: Unlike other reduction functions (e.g. `skew`, `kurtosis`), the default behavior of `mode` typically preserves the axis it acts along. In SciPy 1.11.0, this behavior will change: the default value of `keepdims` will become False, the `axis` over which the statistic is taken will be eliminated, and the value None will no longer be accepted. Set `keepdims` to True or False to avoid this warning.\n",
      "  mode = stats.mode(array)\n",
      "C:\\ProgramData\\Anaconda3\\lib\\site-packages\\sklearn\\impute\\_base.py:49: FutureWarning: Unlike other reduction functions (e.g. `skew`, `kurtosis`), the default behavior of `mode` typically preserves the axis it acts along. In SciPy 1.11.0, this behavior will change: the default value of `keepdims` will become False, the `axis` over which the statistic is taken will be eliminated, and the value None will no longer be accepted. Set `keepdims` to True or False to avoid this warning.\n",
      "  mode = stats.mode(array)\n",
      "C:\\ProgramData\\Anaconda3\\lib\\site-packages\\sklearn\\impute\\_base.py:49: FutureWarning: Unlike other reduction functions (e.g. `skew`, `kurtosis`), the default behavior of `mode` typically preserves the axis it acts along. In SciPy 1.11.0, this behavior will change: the default value of `keepdims` will become False, the `axis` over which the statistic is taken will be eliminated, and the value None will no longer be accepted. Set `keepdims` to True or False to avoid this warning.\n",
      "  mode = stats.mode(array)\n",
      "C:\\ProgramData\\Anaconda3\\lib\\site-packages\\sklearn\\impute\\_base.py:49: FutureWarning: Unlike other reduction functions (e.g. `skew`, `kurtosis`), the default behavior of `mode` typically preserves the axis it acts along. In SciPy 1.11.0, this behavior will change: the default value of `keepdims` will become False, the `axis` over which the statistic is taken will be eliminated, and the value None will no longer be accepted. Set `keepdims` to True or False to avoid this warning.\n",
      "  mode = stats.mode(array)\n",
      "C:\\ProgramData\\Anaconda3\\lib\\site-packages\\sklearn\\impute\\_base.py:49: FutureWarning: Unlike other reduction functions (e.g. `skew`, `kurtosis`), the default behavior of `mode` typically preserves the axis it acts along. In SciPy 1.11.0, this behavior will change: the default value of `keepdims` will become False, the `axis` over which the statistic is taken will be eliminated, and the value None will no longer be accepted. Set `keepdims` to True or False to avoid this warning.\n",
      "  mode = stats.mode(array)\n",
      "C:\\ProgramData\\Anaconda3\\lib\\site-packages\\sklearn\\impute\\_base.py:49: FutureWarning: Unlike other reduction functions (e.g. `skew`, `kurtosis`), the default behavior of `mode` typically preserves the axis it acts along. In SciPy 1.11.0, this behavior will change: the default value of `keepdims` will become False, the `axis` over which the statistic is taken will be eliminated, and the value None will no longer be accepted. Set `keepdims` to True or False to avoid this warning.\n",
      "  mode = stats.mode(array)\n",
      "C:\\ProgramData\\Anaconda3\\lib\\site-packages\\sklearn\\impute\\_base.py:49: FutureWarning: Unlike other reduction functions (e.g. `skew`, `kurtosis`), the default behavior of `mode` typically preserves the axis it acts along. In SciPy 1.11.0, this behavior will change: the default value of `keepdims` will become False, the `axis` over which the statistic is taken will be eliminated, and the value None will no longer be accepted. Set `keepdims` to True or False to avoid this warning.\n",
      "  mode = stats.mode(array)\n",
      "C:\\ProgramData\\Anaconda3\\lib\\site-packages\\sklearn\\impute\\_base.py:49: FutureWarning: Unlike other reduction functions (e.g. `skew`, `kurtosis`), the default behavior of `mode` typically preserves the axis it acts along. In SciPy 1.11.0, this behavior will change: the default value of `keepdims` will become False, the `axis` over which the statistic is taken will be eliminated, and the value None will no longer be accepted. Set `keepdims` to True or False to avoid this warning.\n",
      "  mode = stats.mode(array)\n",
      "C:\\ProgramData\\Anaconda3\\lib\\site-packages\\sklearn\\impute\\_base.py:49: FutureWarning: Unlike other reduction functions (e.g. `skew`, `kurtosis`), the default behavior of `mode` typically preserves the axis it acts along. In SciPy 1.11.0, this behavior will change: the default value of `keepdims` will become False, the `axis` over which the statistic is taken will be eliminated, and the value None will no longer be accepted. Set `keepdims` to True or False to avoid this warning.\n",
      "  mode = stats.mode(array)\n",
      "C:\\ProgramData\\Anaconda3\\lib\\site-packages\\sklearn\\impute\\_base.py:49: FutureWarning: Unlike other reduction functions (e.g. `skew`, `kurtosis`), the default behavior of `mode` typically preserves the axis it acts along. In SciPy 1.11.0, this behavior will change: the default value of `keepdims` will become False, the `axis` over which the statistic is taken will be eliminated, and the value None will no longer be accepted. Set `keepdims` to True or False to avoid this warning.\n",
      "  mode = stats.mode(array)\n",
      "C:\\ProgramData\\Anaconda3\\lib\\site-packages\\sklearn\\impute\\_base.py:49: FutureWarning: Unlike other reduction functions (e.g. `skew`, `kurtosis`), the default behavior of `mode` typically preserves the axis it acts along. In SciPy 1.11.0, this behavior will change: the default value of `keepdims` will become False, the `axis` over which the statistic is taken will be eliminated, and the value None will no longer be accepted. Set `keepdims` to True or False to avoid this warning.\n",
      "  mode = stats.mode(array)\n",
      "C:\\ProgramData\\Anaconda3\\lib\\site-packages\\sklearn\\impute\\_base.py:49: FutureWarning: Unlike other reduction functions (e.g. `skew`, `kurtosis`), the default behavior of `mode` typically preserves the axis it acts along. In SciPy 1.11.0, this behavior will change: the default value of `keepdims` will become False, the `axis` over which the statistic is taken will be eliminated, and the value None will no longer be accepted. Set `keepdims` to True or False to avoid this warning.\n",
      "  mode = stats.mode(array)\n"
     ]
    },
    {
     "name": "stderr",
     "output_type": "stream",
     "text": [
      "C:\\ProgramData\\Anaconda3\\lib\\site-packages\\sklearn\\impute\\_base.py:49: FutureWarning: Unlike other reduction functions (e.g. `skew`, `kurtosis`), the default behavior of `mode` typically preserves the axis it acts along. In SciPy 1.11.0, this behavior will change: the default value of `keepdims` will become False, the `axis` over which the statistic is taken will be eliminated, and the value None will no longer be accepted. Set `keepdims` to True or False to avoid this warning.\n",
      "  mode = stats.mode(array)\n",
      "C:\\ProgramData\\Anaconda3\\lib\\site-packages\\sklearn\\impute\\_base.py:49: FutureWarning: Unlike other reduction functions (e.g. `skew`, `kurtosis`), the default behavior of `mode` typically preserves the axis it acts along. In SciPy 1.11.0, this behavior will change: the default value of `keepdims` will become False, the `axis` over which the statistic is taken will be eliminated, and the value None will no longer be accepted. Set `keepdims` to True or False to avoid this warning.\n",
      "  mode = stats.mode(array)\n",
      "C:\\ProgramData\\Anaconda3\\lib\\site-packages\\sklearn\\impute\\_base.py:49: FutureWarning: Unlike other reduction functions (e.g. `skew`, `kurtosis`), the default behavior of `mode` typically preserves the axis it acts along. In SciPy 1.11.0, this behavior will change: the default value of `keepdims` will become False, the `axis` over which the statistic is taken will be eliminated, and the value None will no longer be accepted. Set `keepdims` to True or False to avoid this warning.\n",
      "  mode = stats.mode(array)\n",
      "C:\\ProgramData\\Anaconda3\\lib\\site-packages\\sklearn\\impute\\_base.py:49: FutureWarning: Unlike other reduction functions (e.g. `skew`, `kurtosis`), the default behavior of `mode` typically preserves the axis it acts along. In SciPy 1.11.0, this behavior will change: the default value of `keepdims` will become False, the `axis` over which the statistic is taken will be eliminated, and the value None will no longer be accepted. Set `keepdims` to True or False to avoid this warning.\n",
      "  mode = stats.mode(array)\n",
      "C:\\ProgramData\\Anaconda3\\lib\\site-packages\\sklearn\\impute\\_base.py:49: FutureWarning: Unlike other reduction functions (e.g. `skew`, `kurtosis`), the default behavior of `mode` typically preserves the axis it acts along. In SciPy 1.11.0, this behavior will change: the default value of `keepdims` will become False, the `axis` over which the statistic is taken will be eliminated, and the value None will no longer be accepted. Set `keepdims` to True or False to avoid this warning.\n",
      "  mode = stats.mode(array)\n",
      "C:\\ProgramData\\Anaconda3\\lib\\site-packages\\sklearn\\impute\\_base.py:49: FutureWarning: Unlike other reduction functions (e.g. `skew`, `kurtosis`), the default behavior of `mode` typically preserves the axis it acts along. In SciPy 1.11.0, this behavior will change: the default value of `keepdims` will become False, the `axis` over which the statistic is taken will be eliminated, and the value None will no longer be accepted. Set `keepdims` to True or False to avoid this warning.\n",
      "  mode = stats.mode(array)\n",
      "C:\\ProgramData\\Anaconda3\\lib\\site-packages\\sklearn\\impute\\_base.py:49: FutureWarning: Unlike other reduction functions (e.g. `skew`, `kurtosis`), the default behavior of `mode` typically preserves the axis it acts along. In SciPy 1.11.0, this behavior will change: the default value of `keepdims` will become False, the `axis` over which the statistic is taken will be eliminated, and the value None will no longer be accepted. Set `keepdims` to True or False to avoid this warning.\n",
      "  mode = stats.mode(array)\n",
      "C:\\ProgramData\\Anaconda3\\lib\\site-packages\\sklearn\\impute\\_base.py:49: FutureWarning: Unlike other reduction functions (e.g. `skew`, `kurtosis`), the default behavior of `mode` typically preserves the axis it acts along. In SciPy 1.11.0, this behavior will change: the default value of `keepdims` will become False, the `axis` over which the statistic is taken will be eliminated, and the value None will no longer be accepted. Set `keepdims` to True or False to avoid this warning.\n",
      "  mode = stats.mode(array)\n",
      "C:\\ProgramData\\Anaconda3\\lib\\site-packages\\sklearn\\impute\\_base.py:49: FutureWarning: Unlike other reduction functions (e.g. `skew`, `kurtosis`), the default behavior of `mode` typically preserves the axis it acts along. In SciPy 1.11.0, this behavior will change: the default value of `keepdims` will become False, the `axis` over which the statistic is taken will be eliminated, and the value None will no longer be accepted. Set `keepdims` to True or False to avoid this warning.\n",
      "  mode = stats.mode(array)\n"
     ]
    },
    {
     "name": "stdout",
     "output_type": "stream",
     "text": [
      "Best params: {'preprocessor__num__imputer__strategy': 'mean', 'preprocessor__num__scaler': StandardScaler(), 'regressor__fit_intercept': True}\n"
     ]
    }
   ],
   "source": [
    "grid_search.fit(X_train, y_train)\n",
    "\n",
    "best_params = grid_search.best_params_\n",
    "print(f\"Best params: {best_params}\")"
   ]
  },
  {
   "cell_type": "code",
   "execution_count": 200,
   "id": "f43b4075",
   "metadata": {},
   "outputs": [],
   "source": [
    "model_op= grid_search.best_estimator_"
   ]
  },
  {
   "cell_type": "code",
   "execution_count": 201,
   "id": "8fd844aa",
   "metadata": {},
   "outputs": [
    {
     "data": {
      "text/plain": [
       "Pipeline(steps=[('preprocessor',\n",
       "                 ColumnTransformer(transformers=[('num',\n",
       "                                                  Pipeline(steps=[('imputer',\n",
       "                                                                   SimpleImputer()),\n",
       "                                                                  ('scaler',\n",
       "                                                                   StandardScaler())]),\n",
       "                                                  Index(['accommodates', 'bedrooms', 'bathrooms_clean', 'Kitchen', 'Wifi',\n",
       "       'Essentials', 'Smoke alarm', 'Hair dryer', 'Refrigerator', 'Microwave',\n",
       "       'TV', 'Cleaning products', 'Cooking basics', 'Washer', 'minimum_nights',\n",
       "       'availability_365'],\n",
       "      dtype='object')),\n",
       "                                                 ('cat',\n",
       "                                                  Pipeline(steps=[('simpleimputer',\n",
       "                                                                   SimpleImputer(strategy='most_frequent')),\n",
       "                                                                  ('onehotencoder',\n",
       "                                                                   OneHotEncoder(handle_unknown='ignore'))]),\n",
       "                                                  Index(['neighbourhood_cleansed', 'room_type'], dtype='object'))])),\n",
       "                ('regressor', LinearRegression())])"
      ]
     },
     "execution_count": 201,
     "metadata": {},
     "output_type": "execute_result"
    }
   ],
   "source": [
    "model_op.fit(X_train, y_train)"
   ]
  },
  {
   "cell_type": "code",
   "execution_count": 202,
   "id": "f1015747",
   "metadata": {},
   "outputs": [],
   "source": [
    "y_test_pred2 = model_op.predict(X_test)\n",
    "y_train_pred2 = model_op.predict(X_train)"
   ]
  },
  {
   "cell_type": "code",
   "execution_count": 203,
   "id": "74d2b9eb",
   "metadata": {},
   "outputs": [
    {
     "name": "stdout",
     "output_type": "stream",
     "text": [
      "Model score - training data: 0.08727825743896378\n",
      "Model score - test data: 0.1863164271378901\n"
     ]
    }
   ],
   "source": [
    "print(f\"Model score - training data: {model_op.score(X_train, y_train)}\")\n",
    "print(f\"Model score - test data: {model_op.score(X_test, y_test)}\")"
   ]
  },
  {
   "cell_type": "code",
   "execution_count": 204,
   "id": "4e09a9f9",
   "metadata": {},
   "outputs": [],
   "source": [
    "f=open('test.sav', 'wb')"
   ]
  },
  {
   "cell_type": "code",
   "execution_count": 205,
   "id": "3f3e5bb3",
   "metadata": {},
   "outputs": [
    {
     "ename": "NameError",
     "evalue": "name 'model' is not defined",
     "output_type": "error",
     "traceback": [
      "\u001b[1;31m---------------------------------------------------------------------------\u001b[0m",
      "\u001b[1;31mNameError\u001b[0m                                 Traceback (most recent call last)",
      "\u001b[1;32m~\\AppData\\Local\\Temp\\ipykernel_3104\\1145078046.py\u001b[0m in \u001b[0;36m<module>\u001b[1;34m\u001b[0m\n\u001b[1;32m----> 1\u001b[1;33m \u001b[0mpickle\u001b[0m\u001b[1;33m.\u001b[0m\u001b[0mdump\u001b[0m\u001b[1;33m(\u001b[0m\u001b[0mmodel\u001b[0m\u001b[1;33m,\u001b[0m\u001b[0mf\u001b[0m\u001b[1;33m)\u001b[0m\u001b[1;33m\u001b[0m\u001b[1;33m\u001b[0m\u001b[0m\n\u001b[0m",
      "\u001b[1;31mNameError\u001b[0m: name 'model' is not defined"
     ]
    }
   ],
   "source": [
    "pickle.dump(model,f)"
   ]
  },
  {
   "cell_type": "markdown",
   "id": "2e158942",
   "metadata": {},
   "source": [
    "### Modèle RIDGE"
   ]
  },
  {
   "cell_type": "code",
   "execution_count": null,
   "id": "1d9a8bdd",
   "metadata": {},
   "outputs": [],
   "source": [
    "NUMERIC_TRANSFORMER = [SimpleImputer(strategy=\"median\"),\n",
    "                       StandardScaler()]\n",
    "CATEGORY_TRANSFORMER = [SimpleImputer(strategy=\"most_frequent\"),\n",
    "                        OneHotEncoder(handle_unknown=\"ignore\")]\n",
    "reg_ridge = define_pipeline(estimator=RidgeCV,\n",
    "                            parameters= {'alphas': 0.5},\n",
    "                            numeric_transformer=NUMERIC_TRANSFORMER,\n",
    "                            categorical_transformer=CATEGORY_TRANSFORMER\n",
    "                           )\n",
    "reg_ridge"
   ]
  },
  {
   "cell_type": "code",
   "execution_count": null,
   "id": "0a6698ce",
   "metadata": {},
   "outputs": [],
   "source": [
    "# cross validation only\n",
    "cv_results = cross_validate(reg_ridge,\n",
    "                            X_train, y_train,\n",
    "                            cv=5,\n",
    "                            scoring=(\"r2\", \"neg_mean_squared_error\",\n",
    "                                     \"neg_mean_absolute_percentage_error\", \"neg_mean_absolute_error\"),\n",
    "                            return_train_score=True)\n",
    "cv_result_ridge = pd.DataFrame(cv_results)\n",
    "cv_result_ridge"
   ]
  },
  {
   "cell_type": "code",
   "execution_count": null,
   "id": "7e98677b",
   "metadata": {},
   "outputs": [],
   "source": [
    "cv_result_ridge[[\"train_r2\", \"test_r2\"]].plot(kind=\"barh\", figsize=(8, 5));"
   ]
  },
  {
   "cell_type": "markdown",
   "id": "5dbee683",
   "metadata": {},
   "source": [
    "### XGBOOST"
   ]
  },
  {
   "cell_type": "code",
   "execution_count": 180,
   "id": "b46fd342",
   "metadata": {},
   "outputs": [
    {
     "name": "stdout",
     "output_type": "stream",
     "text": [
      "Defaulting to user installation because normal site-packages is not writeable\n",
      "Requirement already satisfied: xgboost in c:\\users\\acer\\appdata\\roaming\\python\\python39\\site-packages (1.7.3)\n",
      "Requirement already satisfied: numpy in c:\\programdata\\anaconda3\\lib\\site-packages (from xgboost) (1.21.5)\n",
      "Requirement already satisfied: scipy in c:\\programdata\\anaconda3\\lib\\site-packages (from xgboost) (1.9.1)\n"
     ]
    }
   ],
   "source": [
    "!pip install xgboost\n",
    "from xgboost import XGBRegressor\n",
    "from xgboost import plot_importance"
   ]
  },
  {
   "cell_type": "code",
   "execution_count": 181,
   "id": "acd0e510",
   "metadata": {},
   "outputs": [],
   "source": [
    "def define_pipeline(estimator,\n",
    "                    parameters,\n",
    "                    numeric_transformer,\n",
    "                    categorical_transformer\n",
    "                   ):\n",
    "    \"\"\" Construct a Pipeline from the given transfomers & estimators\n",
    "    \"\"\"\n",
    "    if not parameters:\n",
    "        parameters = dict()\n",
    "    numeric_transformer = make_pipeline(*numeric_transformer)\n",
    "    categorical_transformer = make_pipeline(*categorical_transformer)\n",
    "\n",
    "\n",
    "    preprocessor = ColumnTransformer(\n",
    "        transformers=[\n",
    "            (\"num\", make_pipeline(*numeric_transformer), make_column_selector(dtype_include=\"number\")),\n",
    "            (\"cat\", make_pipeline(*categorical_transformer), make_column_selector(dtype_include=[\"object\"])),\n",
    "        ]\n",
    "    )\n",
    "\n",
    "    # Append estimator to preprocessing pipeline.\n",
    "    # Now we have a full prediction pipeline.\n",
    "    return Pipeline(steps=[(\"preprocessor\", preprocessor), (\"regressor\", estimator(**parameters))])"
   ]
  },
  {
   "cell_type": "code",
   "execution_count": 182,
   "id": "a94957fa",
   "metadata": {},
   "outputs": [
    {
     "data": {
      "text/plain": [
       "Pipeline(steps=[('preprocessor',\n",
       "                 ColumnTransformer(transformers=[('num',\n",
       "                                                  Pipeline(steps=[('simpleimputer',\n",
       "                                                                   SimpleImputer(strategy='median')),\n",
       "                                                                  ('standardscaler',\n",
       "                                                                   StandardScaler())]),\n",
       "                                                  <sklearn.compose._column_transformer.make_column_selector object at 0x00000253E87718E0>),\n",
       "                                                 ('cat',\n",
       "                                                  Pipeline(steps=[('simpleimputer',\n",
       "                                                                   SimpleImputer(strategy='most_frequent')),\n",
       "                                                                  ('oneho...\n",
       "                              feature_types=None, gamma=None, gpu_id=None,\n",
       "                              grow_policy=None, importance_type=None,\n",
       "                              interaction_constraints=None, learning_rate=None,\n",
       "                              max_bin=None, max_cat_threshold=None,\n",
       "                              max_cat_to_onehot=None, max_delta_step=None,\n",
       "                              max_depth=3, max_leaves=None,\n",
       "                              min_child_weight=None, missing=nan,\n",
       "                              monotone_constraints=None, n_estimators=50,\n",
       "                              n_jobs=None, num_parallel_tree=None,\n",
       "                              predictor=None, random_state=None, ...))])"
      ]
     },
     "execution_count": 182,
     "metadata": {},
     "output_type": "execute_result"
    }
   ],
   "source": [
    "NUMERIC_TRANSFORMER = [SimpleImputer(strategy=\"median\"),\n",
    "                       StandardScaler()]\n",
    "CATEGORY_TRANSFORMER = [SimpleImputer(strategy=\"most_frequent\"),\n",
    "                        OneHotEncoder(handle_unknown=\"ignore\")]\n",
    "reg_xgboost = define_pipeline(estimator=XGBRegressor,\n",
    "                            parameters={'n_estimators':50,'max_depth':3},\n",
    "                            numeric_transformer=NUMERIC_TRANSFORMER,\n",
    "                            categorical_transformer=CATEGORY_TRANSFORMER\n",
    "                           )\n",
    "reg_xgboost"
   ]
  },
  {
   "cell_type": "code",
   "execution_count": 183,
   "id": "0cc5e210",
   "metadata": {},
   "outputs": [
    {
     "data": {
      "text/plain": [
       "Pipeline(steps=[('preprocessor',\n",
       "                 ColumnTransformer(transformers=[('num',\n",
       "                                                  Pipeline(steps=[('simpleimputer',\n",
       "                                                                   SimpleImputer(strategy='median')),\n",
       "                                                                  ('standardscaler',\n",
       "                                                                   StandardScaler())]),\n",
       "                                                  <sklearn.compose._column_transformer.make_column_selector object at 0x00000253E87718E0>),\n",
       "                                                 ('cat',\n",
       "                                                  Pipeline(steps=[('simpleimputer',\n",
       "                                                                   SimpleImputer(strategy='most_frequent')),\n",
       "                                                                  ('oneho...\n",
       "                              feature_types=None, gamma=None, gpu_id=None,\n",
       "                              grow_policy=None, importance_type=None,\n",
       "                              interaction_constraints=None, learning_rate=None,\n",
       "                              max_bin=None, max_cat_threshold=None,\n",
       "                              max_cat_to_onehot=None, max_delta_step=None,\n",
       "                              max_depth=3, max_leaves=None,\n",
       "                              min_child_weight=None, missing=nan,\n",
       "                              monotone_constraints=None, n_estimators=50,\n",
       "                              n_jobs=None, num_parallel_tree=None,\n",
       "                              predictor=None, random_state=None, ...))])"
      ]
     },
     "execution_count": 183,
     "metadata": {},
     "output_type": "execute_result"
    }
   ],
   "source": [
    "reg_xgboost.fit(X_train, y_train)"
   ]
  },
  {
   "cell_type": "code",
   "execution_count": 184,
   "id": "893fb5a4",
   "metadata": {},
   "outputs": [],
   "source": [
    "y_test_pred = reg_xgboost.predict(X_test)\n",
    "y_train_pred = reg_xgboost.predict(X_train)"
   ]
  },
  {
   "cell_type": "code",
   "execution_count": 185,
   "id": "3c4f4046",
   "metadata": {},
   "outputs": [],
   "source": [
    "def get_performances(real_value, estimated_value, metrics):\n",
    "    perfs = []\n",
    "    for metric_func in metrics:\n",
    "        perfs.append((metric_func.__name__, metric_func(real_value, estimated_value)))\n",
    "    return pd.DataFrame(perfs, columns=[\"metric\", \"value\"])\n",
    "\n",
    "\n",
    "def get_all_performances(value_train, values_test, metrics):\n",
    "    test_perfs = []\n",
    "    train_perfs = []\n",
    "    metric_names = []\n",
    "    for metric_func in metrics:\n",
    "        metric_name = metric_func.__name__\n",
    "        metric_names.append(metric_name)\n",
    "        train_perfs.append(metric_func(*value_train))\n",
    "        test_perfs.append(metric_func(*values_test))\n",
    "    perfs = {\"metric\": metric_names, \"train\": train_perfs, \"test\": test_perfs,}\n",
    "    return pd.DataFrame(perfs)"
   ]
  },
  {
   "cell_type": "code",
   "execution_count": 187,
   "id": "b17166b5",
   "metadata": {},
   "outputs": [
    {
     "data": {
      "text/html": [
       "<div>\n",
       "<style scoped>\n",
       "    .dataframe tbody tr th:only-of-type {\n",
       "        vertical-align: middle;\n",
       "    }\n",
       "\n",
       "    .dataframe tbody tr th {\n",
       "        vertical-align: top;\n",
       "    }\n",
       "\n",
       "    .dataframe thead th {\n",
       "        text-align: right;\n",
       "    }\n",
       "</style>\n",
       "<table border=\"1\" class=\"dataframe\">\n",
       "  <thead>\n",
       "    <tr style=\"text-align: right;\">\n",
       "      <th></th>\n",
       "      <th>metric</th>\n",
       "      <th>value</th>\n",
       "    </tr>\n",
       "  </thead>\n",
       "  <tbody>\n",
       "    <tr>\n",
       "      <th>0</th>\n",
       "      <td>r2_score</td>\n",
       "      <td>0.124119</td>\n",
       "    </tr>\n",
       "    <tr>\n",
       "      <th>1</th>\n",
       "      <td>mean_squared_error</td>\n",
       "      <td>92362.055259</td>\n",
       "    </tr>\n",
       "    <tr>\n",
       "      <th>2</th>\n",
       "      <td>mean_absolute_percentage_error</td>\n",
       "      <td>0.587224</td>\n",
       "    </tr>\n",
       "    <tr>\n",
       "      <th>3</th>\n",
       "      <td>max_error</td>\n",
       "      <td>11381.428970</td>\n",
       "    </tr>\n",
       "  </tbody>\n",
       "</table>\n",
       "</div>"
      ],
      "text/plain": [
       "                           metric         value\n",
       "0                        r2_score      0.124119\n",
       "1              mean_squared_error  92362.055259\n",
       "2  mean_absolute_percentage_error      0.587224\n",
       "3                       max_error  11381.428970"
      ]
     },
     "execution_count": 187,
     "metadata": {},
     "output_type": "execute_result"
    }
   ],
   "source": [
    "METRICS = [r2_score,\n",
    "           mean_squared_error,\n",
    "           mean_absolute_percentage_error,\n",
    "           max_error,\n",
    "          ]\n",
    "# get performance on single set\n",
    "get_performances(real_value=y_test, estimated_value=y_test_pred, metrics=METRICS)"
   ]
  },
  {
   "cell_type": "code",
   "execution_count": 188,
   "id": "5b91d9a8",
   "metadata": {},
   "outputs": [
    {
     "data": {
      "text/html": [
       "<div>\n",
       "<style scoped>\n",
       "    .dataframe tbody tr th:only-of-type {\n",
       "        vertical-align: middle;\n",
       "    }\n",
       "\n",
       "    .dataframe tbody tr th {\n",
       "        vertical-align: top;\n",
       "    }\n",
       "\n",
       "    .dataframe thead th {\n",
       "        text-align: right;\n",
       "    }\n",
       "</style>\n",
       "<table border=\"1\" class=\"dataframe\">\n",
       "  <thead>\n",
       "    <tr style=\"text-align: right;\">\n",
       "      <th></th>\n",
       "      <th>metric</th>\n",
       "      <th>train</th>\n",
       "      <th>test</th>\n",
       "    </tr>\n",
       "  </thead>\n",
       "  <tbody>\n",
       "    <tr>\n",
       "      <th>0</th>\n",
       "      <td>r2_score</td>\n",
       "      <td>0.241089</td>\n",
       "      <td>0.124119</td>\n",
       "    </tr>\n",
       "    <tr>\n",
       "      <th>1</th>\n",
       "      <td>mean_squared_error</td>\n",
       "      <td>200421.161885</td>\n",
       "      <td>92362.055259</td>\n",
       "    </tr>\n",
       "    <tr>\n",
       "      <th>2</th>\n",
       "      <td>mean_absolute_percentage_error</td>\n",
       "      <td>0.575059</td>\n",
       "      <td>0.587224</td>\n",
       "    </tr>\n",
       "    <tr>\n",
       "      <th>3</th>\n",
       "      <td>max_error</td>\n",
       "      <td>51189.764648</td>\n",
       "      <td>11381.428970</td>\n",
       "    </tr>\n",
       "  </tbody>\n",
       "</table>\n",
       "</div>"
      ],
      "text/plain": [
       "                           metric          train          test\n",
       "0                        r2_score       0.241089      0.124119\n",
       "1              mean_squared_error  200421.161885  92362.055259\n",
       "2  mean_absolute_percentage_error       0.575059      0.587224\n",
       "3                       max_error   51189.764648  11381.428970"
      ]
     },
     "execution_count": 188,
     "metadata": {},
     "output_type": "execute_result"
    }
   ],
   "source": [
    "# get performances in train & test\n",
    "get_all_performances(value_train=(y_train, y_train_pred),\n",
    "                     values_test=(y_test, y_test_pred),\n",
    "                     metrics=METRICS\n",
    "                    )"
   ]
  },
  {
   "cell_type": "code",
   "execution_count": null,
   "id": "a6b5f964",
   "metadata": {},
   "outputs": [],
   "source": []
  }
 ],
 "metadata": {
  "kernelspec": {
   "display_name": "Python 3 (ipykernel)",
   "language": "python",
   "name": "python3"
  },
  "language_info": {
   "codemirror_mode": {
    "name": "ipython",
    "version": 3
   },
   "file_extension": ".py",
   "mimetype": "text/x-python",
   "name": "python",
   "nbconvert_exporter": "python",
   "pygments_lexer": "ipython3",
   "version": "3.9.13"
  }
 },
 "nbformat": 4,
 "nbformat_minor": 5
}

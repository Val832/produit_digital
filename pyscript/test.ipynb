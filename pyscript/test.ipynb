{
 "cells": [
  {
   "cell_type": "code",
   "execution_count": 1,
   "metadata": {},
   "outputs": [],
   "source": [
    "from tools import crawler, clean_df\n",
    "import pandas as pd \n"
   ]
  },
  {
   "cell_type": "code",
   "execution_count": 2,
   "metadata": {},
   "outputs": [],
   "source": [
    "\n",
    "\n",
    "res = crawler.extract_html(\"https://www.cpubenchmark.net/cpu_list.php\")\n",
    "\n"
   ]
  },
  {
   "cell_type": "code",
   "execution_count": 4,
   "metadata": {},
   "outputs": [
    {
     "name": "stdout",
     "output_type": "stream",
     "text": [
      "                                CPU Name CPU Mark(higher is better)  \\\n",
      "0                AArch64 rev 2 (aarch64)                      2,320   \n",
      "1                AArch64 rev 4 (aarch64)                      1,779   \n",
      "2                            AC8257V/WAB                        728   \n",
      "3                         Allwinner A133                        729   \n",
      "4                         Allwinner A523                      2,042   \n",
      "...                                  ...                        ...   \n",
      "4449     ZHAOXIN KaiXian KX-U6780@2.7GHz                      3,693   \n",
      "4450    ZHAOXIN KaiXian KX-U6780A@2.7GHz                      3,913   \n",
      "4451  ZHAOXIN KaiXian ZX-C+ C4700@2.0GHz                      1,547   \n",
      "4452   ZHAOXIN KaiXian ZX-D D4600@2.0GHz                      1,492   \n",
      "4453                               天玑900                      4,259   \n",
      "\n",
      "     Rank(lower is better) CPU Value(higher is better) Price(USD)  \n",
      "0                     2456                          NA         NA  \n",
      "1                     2775                          NA         NA  \n",
      "2                     3683                          NA         NA  \n",
      "3                     3682                          NA         NA  \n",
      "4                     2609                          NA         NA  \n",
      "...                    ...                         ...        ...  \n",
      "4449                  1889                          NA         NA  \n",
      "4450                  1819                          NA         NA  \n",
      "4451                  2930                          NA         NA  \n",
      "4452                  2973                          NA         NA  \n",
      "4453                  1734                          NA         NA  \n",
      "\n",
      "[4454 rows x 5 columns]\n"
     ]
    }
   ],
   "source": [
    "table = crawler.extract_table(res, table_id = 'cputable')\n",
    "print(table)\n"
   ]
  },
  {
   "cell_type": "code",
   "execution_count": 5,
   "metadata": {},
   "outputs": [
    {
     "name": "stdout",
     "output_type": "stream",
     "text": [
      "  Database Operations Memory Read Cached Memory Read Uncached  \\\n",
      "0      8,769 KOps/Sec  36,443 MBytes/Sec    18,218 MBytes/Sec   \n",
      "1     11,528 KOps/Sec  40,211 MBytes/Sec    30,518 MBytes/Sec   \n",
      "\n",
      "        Memory Write                  Latency    Memory Threaded  \n",
      "0  14,671 MBytes/Sec  48 ns (lower is better)  65,257 MBytes/Sec  \n",
      "1  22,646 MBytes/Sec  47 ns (lower is better)  73,163 MBytes/Sec  \n"
     ]
    }
   ],
   "source": [
    "list_url =['https://www.memorybenchmark.net/ram.php?ram=A-DATA+Technology+AD5U48008G-B+8GB&id=18348', 'https://www.memorybenchmark.net/ram.php?ram=Corsair+CMH32GX5M2B6000C40+16GB&id=19698']\n",
    "\n",
    "\n",
    "all_data = []\n",
    "for i in list_url : \n",
    "\n",
    "    res = crawler.extract_html(i)\n",
    "    table  = crawler.find_element(res, tag = 'table', element_id = 'test-suite-results')\n",
    "\n",
    "    data = {}\n",
    "\n",
    "    for row in table.findAll('tr'):\n",
    "        header = row.find('th').text\n",
    "        value = row.find('td').text\n",
    "        data[header] = value\n",
    "    all_data.append(data)\n",
    "\n",
    "df = pd.DataFrame(all_data)\n",
    "\n",
    "print(df)"
   ]
  }
 ],
 "metadata": {
  "kernelspec": {
   "display_name": "base",
   "language": "python",
   "name": "python3"
  },
  "language_info": {
   "codemirror_mode": {
    "name": "ipython",
    "version": 3
   },
   "file_extension": ".py",
   "mimetype": "text/x-python",
   "name": "python",
   "nbconvert_exporter": "python",
   "pygments_lexer": "ipython3",
   "version": "3.11.4"
  },
  "orig_nbformat": 4
 },
 "nbformat": 4,
 "nbformat_minor": 2
}

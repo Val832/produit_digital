{
 "cells": [
  {
   "cell_type": "code",
   "execution_count": null,
   "metadata": {},
   "outputs": [],
   "source": [
    "from tools import Crawler\n",
    "import pandas as pd \n"
   ]
  },
  {
   "cell_type": "code",
   "execution_count": null,
   "metadata": {},
   "outputs": [],
   "source": [
    "\n",
    "\n",
    "res = Crawler.extract_html(\"https://www.videocardbenchmark.net/gpu_list.php\")\n",
    "\n"
   ]
  },
  {
   "cell_type": "code",
   "execution_count": null,
   "metadata": {},
   "outputs": [],
   "source": [
    "print(Crawler.find_element(res, tag='table', element_id='cputable'))"
   ]
  },
  {
   "cell_type": "code",
   "execution_count": null,
   "metadata": {},
   "outputs": [],
   "source": [
    "list_url =['https://www.memorybenchmark.net/ram.php?ram=A-DATA+Technology+AD5U48008G-B+8GB&id=18348', 'https://www.memorybenchmark.net/ram.php?ram=Corsair+CMH32GX5M2B6000C40+16GB&id=19698']\n",
    "\n",
    "\n",
    "all_data = []\n",
    "for i in list_url : \n",
    "\n",
    "    res = Crawler.extract_html(i)\n",
    "    table  = Crawler.find_element(res, tag = 'table', element_id = 'test-suite-results')\n",
    "\n",
    "    data = {}\n",
    "\n",
    "    for row in table.findAll('tr'):\n",
    "        header = row.find('th').text\n",
    "        value = row.find('td').text\n",
    "        data[header] = value\n",
    "    all_data.append(data)\n",
    "\n",
    "df = pd.DataFrame(all_data)\n",
    "\n",
    "print(df)"
   ]
  },
  {
   "cell_type": "code",
   "execution_count": 12,
   "metadata": {},
   "outputs": [
    {
     "name": "stdout",
     "output_type": "stream",
     "text": [
      "<table class=\"table\" id=\"test-suite-results\">\n",
      "<tr><th>Sequential Read</th><td>1,668 MBytes/Sec</td></tr>\n",
      "<tr class=\"bg-table-row\"><th>Sequential Write</th><td>1,274 MBytes/Sec</td></tr>\n",
      "<tr><th>Random Seek Read Write (IOPS 32KQD20)</th><td>682 MBytes/Sec</td></tr>\n",
      "<tr class=\"bg-table-row\"><th>IOPS 4KQD1</th><td>33 MBytes/Sec</td></tr>\n",
      "</table>\n"
     ]
    },
    {
     "data": {
      "text/plain": [
       "{'Sequential Read': 'NA',\n",
       " 'Sequential Write': 'NA',\n",
       " 'Random Seek Read Write (IOPS 32KQD20)': 'NA',\n",
       " 'IOPS 4KQD1': 'NA'}"
      ]
     },
     "execution_count": 12,
     "metadata": {},
     "output_type": "execute_result"
    }
   ],
   "source": [
    "def missing_table (): \n",
    "    res = Crawler.extract_html(\"https://www.harddrivebenchmark.net/hdd.php?hdd=35TTFP6PCIE-256G&id=27777\")\n",
    "    table = Crawler.find_element(res, tag='table', element_id='test-suite-results')\n",
    "    print(table)\n",
    "\n",
    "    missing_table = {}\n",
    "    for row in table.findAll('tr'):\n",
    "        header = row.find('th').text\n",
    "        missing_table[header] = \"NA\"\n",
    "    \n",
    "    return missing_table\n",
    "    \n",
    "missing_table()"
   ]
  }
 ],
 "metadata": {
  "kernelspec": {
   "display_name": "base",
   "language": "python",
   "name": "python3"
  },
  "language_info": {
   "codemirror_mode": {
    "name": "ipython",
    "version": 3
   },
   "file_extension": ".py",
   "mimetype": "text/x-python",
   "name": "python",
   "nbconvert_exporter": "python",
   "pygments_lexer": "ipython3",
   "version": "3.11.4"
  },
  "orig_nbformat": 4
 },
 "nbformat": 4,
 "nbformat_minor": 2
}

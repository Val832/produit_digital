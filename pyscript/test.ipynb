{
 "cells": [
  {
   "cell_type": "code",
   "execution_count": null,
   "metadata": {},
   "outputs": [],
   "source": [
    "from tools import crawler, clean_df\n",
    "import pandas as pd \n"
   ]
  },
  {
   "cell_type": "code",
   "execution_count": null,
   "metadata": {},
   "outputs": [],
   "source": [
    "\n",
    "\n",
    "res = crawler.extract_html(\"https://www.memorybenchmark.net/ram.php?ram=A-DATA+Technology+AD5U48008G-B+8GB&id=18348\")\n",
    "\n"
   ]
  },
  {
   "cell_type": "code",
   "execution_count": 16,
   "metadata": {},
   "outputs": [
    {
     "name": "stdout",
     "output_type": "stream",
     "text": [
      "<table class=\"table\" id=\"test-suite-results\">\n",
      "<tr><th>Database Operations</th><td>8,769 KOps/Sec</td></tr>\n",
      "<tr><th>Memory Read Cached</th><td>36,443 MBytes/Sec</td></tr>\n",
      "<tr><th>Memory Read Uncached</th><td>18,218 MBytes/Sec</td></tr>\n",
      "<tr><th>Memory Write</th><td>14,671 MBytes/Sec</td></tr>\n",
      "<tr><th>Latency</th><td>48 ns (lower is better)</td></tr>\n",
      "<tr><th>Memory Threaded</th><td>65,257 MBytes/Sec</td></tr>\n",
      "</table>\n"
     ]
    }
   ],
   "source": [
    "table = crawler.find_element(res, tag = 'table', element_id = 'test-suite-results')\n",
    "print(table)\n"
   ]
  },
  {
   "cell_type": "code",
   "execution_count": 19,
   "metadata": {},
   "outputs": [
    {
     "name": "stdout",
     "output_type": "stream",
     "text": [
      "  Database Operations Memory Read Cached Memory Read Uncached  \\\n",
      "0      8,769 KOps/Sec  36,443 MBytes/Sec    18,218 MBytes/Sec   \n",
      "1     11,528 KOps/Sec  40,211 MBytes/Sec    30,518 MBytes/Sec   \n",
      "\n",
      "        Memory Write                  Latency    Memory Threaded  \n",
      "0  14,671 MBytes/Sec  48 ns (lower is better)  65,257 MBytes/Sec  \n",
      "1  22,646 MBytes/Sec  47 ns (lower is better)  73,163 MBytes/Sec  \n"
     ]
    }
   ],
   "source": [
    "list_url =['https://www.memorybenchmark.net/ram.php?ram=A-DATA+Technology+AD5U48008G-B+8GB&id=18348', 'https://www.memorybenchmark.net/ram.php?ram=Corsair+CMH32GX5M2B6000C40+16GB&id=19698']\n",
    "\n",
    "\n",
    "all_data = []\n",
    "for i in list_url : \n",
    "\n",
    "    res = crawler.extract_html(i)\n",
    "    table  = crawler.find_element(res, tag = 'table', element_id = 'test-suite-results')\n",
    "\n",
    "    data = {}\n",
    "\n",
    "    for row in table.findAll('tr'):\n",
    "        header = row.find('th').text\n",
    "        value = row.find('td').text\n",
    "        data[header] = value\n",
    "    all_data.append(data)\n",
    "\n",
    "df = pd.DataFrame(all_data)\n",
    "\n",
    "print(df)"
   ]
  }
 ],
 "metadata": {
  "kernelspec": {
   "display_name": "base",
   "language": "python",
   "name": "python3"
  },
  "language_info": {
   "codemirror_mode": {
    "name": "ipython",
    "version": 3
   },
   "file_extension": ".py",
   "mimetype": "text/x-python",
   "name": "python",
   "nbconvert_exporter": "python",
   "pygments_lexer": "ipython3",
   "version": "3.1.-1"
  },
  "orig_nbformat": 4
 },
 "nbformat": 4,
 "nbformat_minor": 2
}
